{
 "cells": [
  {
   "cell_type": "markdown",
   "metadata": {},
   "source": [
    "<h1 style='background:#C4F1E8; border:2; border-radius: 10px; font-size:250%; font-weight: bold; color:black'><center>Prédictions d'AVC</center></h1> \n",
    " \n",
    "<img src = \"https://www.news-medical.net/image.axd?picture=2021%2F11%2Fshutterstock_1488035675-1.jpg\" width = 500 height = 400/>\n",
    "\n",
    "Pour la culture : \n",
    "L’accident vasculaire cérébral (AVC) est la conséquence de l’obstruction ou de la rupture d’un vaisseau transportant le sang dans le cerveau.\n",
    "\n",
    "Il se traduit par un déficit neurologique d’installation soudaine, qui peut concerner la motricité, la sensibilité, le langage, ou la vision, pour ne citer que les manifestations les plus fréquentes, selon le siège de la lésion cérébrale (Quand y penser?)\n",
    "\n",
    "Un autre terme utilisé est « attaque cérébrale ».\n",
    "En anglais, l’AVC est désigné par le terme « stroke »."
   ]
  },
  {
   "cell_type": "markdown",
   "metadata": {
    "id": "xJcZA5_oUnI0"
   },
   "source": [
    "<a id=\"title-five\"></a>\n",
    "<h1 style='background:#C4F1E8; border:2; border-radius: 10px; color:black'><center>Imports des librairies</center></h1>"
   ]
  },
  {
   "cell_type": "code",
   "execution_count": 34,
   "metadata": {
    "application/vnd.databricks.v1+cell": {
     "inputWidgets": {},
     "nuid": "b8490396-203b-4e19-9a18-dc81bf3c142b",
     "showTitle": false,
     "title": ""
    }
   },
   "outputs": [
    {
     "data": {
      "text/html": [
       "        <script type=\"text/javascript\">\n",
       "        window.PlotlyConfig = {MathJaxConfig: 'local'};\n",
       "        if (window.MathJax && window.MathJax.Hub && window.MathJax.Hub.Config) {window.MathJax.Hub.Config({SVG: {font: \"STIX-Web\"}});}\n",
       "        if (typeof require !== 'undefined') {\n",
       "        require.undef(\"plotly\");\n",
       "        requirejs.config({\n",
       "            paths: {\n",
       "                'plotly': ['https://cdn.plot.ly/plotly-2.14.0.min']\n",
       "            }\n",
       "        });\n",
       "        require(['plotly'], function(Plotly) {\n",
       "            window._Plotly = Plotly;\n",
       "        });\n",
       "        }\n",
       "        </script>\n",
       "        "
      ]
     },
     "metadata": {},
     "output_type": "display_data"
    }
   ],
   "source": [
    "# Session Spark\n",
    "from pyspark import SparkContext\n",
    "from pyspark.sql import SparkSession\n",
    "\n",
    "# Pandas\n",
    "import pyspark.pandas as pd\n",
    "\n",
    "# Preprocessing\n",
    "from pyspark.ml.feature import StringIndexer\n",
    "from pyspark.ml.feature import VectorAssembler\n",
    "from pyspark.ml.feature import OneHotEncoder\n",
    "\n",
    "# Model building\n",
    "from pyspark.ml import Pipeline\n",
    "from pyspark.ml.evaluation import MulticlassClassificationEvaluator\n",
    "\n",
    "\n",
    "# Types\n",
    "from pyspark.sql.types import DoubleType\n",
    "\n",
    "# iplot\n",
    "from matplotlib import pyplot\n",
    "\n",
    "# éxécuter cette commande -> pip install cufflinks\n",
    "import cufflinks as cf\n",
    "cf.go_offline()\n",
    "cf.set_config_file(offline=False, world_readable=True)"
   ]
  },
  {
   "cell_type": "markdown",
   "metadata": {},
   "source": [
    "**Creation de la Session Spark**"
   ]
  },
  {
   "cell_type": "code",
   "execution_count": 35,
   "metadata": {
    "id": "4fJ_-j_jUnIz"
   },
   "outputs": [],
   "source": [
    "spark = SparkSession.builder.getOrCreate()"
   ]
  },
  {
   "cell_type": "markdown",
   "metadata": {
    "id": "xJcZA5_oUnI0"
   },
   "source": [
    "<a id=\"title-five\"></a>\n",
    "<h1 style='background:#C4F1E8; border:2; border-radius: 10px; color:black'><center>Lecture et analyse des données</center></h1>\n",
    "\n",
    "L'analyse et la lecture de notre jeu de données se fera de manière séquentielle :\n",
    "\n",
    "- Analyse des features et de leur type\n",
    "- Détection de données erronées (valeurs null, inutiles, ...)\n",
    "- L'ampleur des données\n",
    "- Analyse des facteurs amenant à un AVC"
   ]
  },
  {
   "cell_type": "code",
   "execution_count": 36,
   "metadata": {
    "application/vnd.databricks.v1+cell": {
     "inputWidgets": {},
     "nuid": "375ab44d-6f3d-45ff-8dea-70fb552be458",
     "showTitle": false,
     "title": ""
    }
   },
   "outputs": [
    {
     "name": "stdout",
     "output_type": "stream",
     "text": [
      "root\n",
      " |-- id: integer (nullable = true)\n",
      " |-- gender: string (nullable = true)\n",
      " |-- age: double (nullable = true)\n",
      " |-- hypertension: integer (nullable = true)\n",
      " |-- heart_disease: integer (nullable = true)\n",
      " |-- ever_married: string (nullable = true)\n",
      " |-- work_type: string (nullable = true)\n",
      " |-- Residence_type: string (nullable = true)\n",
      " |-- avg_glucose_level: double (nullable = true)\n",
      " |-- bmi: string (nullable = true)\n",
      " |-- smoking_status: string (nullable = true)\n",
      " |-- stroke: integer (nullable = true)\n",
      "\n"
     ]
    }
   ],
   "source": [
    "# Lecture du jeu de données\n",
    "df = spark.read.csv('./brain_stroke.csv', header = True, inferSchema = True).cache()\n",
    "\n",
    "# Affichage de 5 entités\n",
    "df.limit(10).toPandas()\n",
    "\n",
    "# Affichage des features\n",
    "df.printSchema()"
   ]
  },
  {
   "cell_type": "markdown",
   "metadata": {
    "id": "xJcZA5_oUnI0"
   },
   "source": [
    "**Analyse des features et de leur type**\n",
    "\n",
    "- gender: \"Male\", \"Female\" or \"Other\"\n",
    "- age: age of the patient\n",
    "- hypertension: 0 if the patient doesn't have hypertension, 1 if the patient has hypertension\n",
    "- heart disease: 0 if the patient doesn't have any heart diseases, 1 if the patient has a heart disease \n",
    "- ever_married: \"No\" or \"Yes\"\n",
    "- worktype: \"children\", \"Govtjov\", \"Neverworked\", \"Private\" or \"Self-employed\"\n",
    "- Residencetype: \"Rural\" or \"Urban\"\n",
    "- avgglucoselevel: average glucose level in blood\n",
    "- bmi: body mass index\n",
    "- smoking_status: \"formerly smoked\", \"never smoked\", \"smokes\" or \"Unknown\"*\n",
    "- stroke: 1 if the patient had a stroke or 0 if not\n",
    "\n",
    "Après affichage du schéma de notre dataframe, nous nous rendons compte que les colonnes sont de différents type.\n",
    "\n",
    "Dans le cadre de l'éxécution de notre future pipeline de Machine Learning, il sera vitale de transformer les valeurs non-numérique en valeur numérique.\n",
    "\n",
    "**Détection de données erronées / inutiles**"
   ]
  },
  {
   "cell_type": "code",
   "execution_count": 37,
   "metadata": {
    "application/vnd.databricks.v1+cell": {
     "inputWidgets": {},
     "nuid": "009d5547-a522-4edf-8966-06f76b80e4f3",
     "showTitle": false,
     "title": ""
    }
   },
   "outputs": [
    {
     "name": "stdout",
     "output_type": "stream",
     "text": [
      "+------+\n",
      "|gender|\n",
      "+------+\n",
      "|Female|\n",
      "| Other|\n",
      "|  Male|\n",
      "+------+\n",
      "\n",
      "Nombre d'entités avec le gender 'Other' : 1\n"
     ]
    }
   ],
   "source": [
    "df.select(\"gender\").distinct().show()\n",
    "print(\"Nombre d'entités avec le gender 'Other' : \" + str(df.filter(df[\"gender\"] == 'Other').count()))"
   ]
  },
  {
   "cell_type": "markdown",
   "metadata": {
    "id": "xJcZA5_oUnI0"
   },
   "source": [
    "On remarque qu'il existe qu'une seule occurence du gender \"other\", on retirera donc durant la phase de preprocessing cette occurence afin que les données soient plus équilibrés."
   ]
  },
  {
   "cell_type": "markdown",
   "metadata": {
    "id": "xJcZA5_oUnI0"
   },
   "source": [
    "On remarque également qu'il existe une valeur \"unknown\" pour notre feature \"smoking_status\"."
   ]
  },
  {
   "cell_type": "code",
   "execution_count": 38,
   "metadata": {
    "application/vnd.databricks.v1+cell": {
     "inputWidgets": {},
     "nuid": "009d5547-a522-4edf-8966-06f76b80e4f3",
     "showTitle": false,
     "title": ""
    }
   },
   "outputs": [
    {
     "data": {
      "text/html": [
       "<div>\n",
       "<style scoped>\n",
       "    .dataframe tbody tr th:only-of-type {\n",
       "        vertical-align: middle;\n",
       "    }\n",
       "\n",
       "    .dataframe tbody tr th {\n",
       "        vertical-align: top;\n",
       "    }\n",
       "\n",
       "    .dataframe thead th {\n",
       "        text-align: right;\n",
       "    }\n",
       "</style>\n",
       "<table border=\"1\" class=\"dataframe\">\n",
       "  <thead>\n",
       "    <tr style=\"text-align: right;\">\n",
       "      <th></th>\n",
       "      <th>smoking_status</th>\n",
       "    </tr>\n",
       "  </thead>\n",
       "  <tbody>\n",
       "    <tr>\n",
       "      <th>0</th>\n",
       "      <td>smokes</td>\n",
       "    </tr>\n",
       "    <tr>\n",
       "      <th>1</th>\n",
       "      <td>Unknown</td>\n",
       "    </tr>\n",
       "    <tr>\n",
       "      <th>2</th>\n",
       "      <td>never smoked</td>\n",
       "    </tr>\n",
       "    <tr>\n",
       "      <th>3</th>\n",
       "      <td>formerly smoked</td>\n",
       "    </tr>\n",
       "  </tbody>\n",
       "</table>\n",
       "</div>"
      ],
      "text/plain": [
       "    smoking_status\n",
       "0           smokes\n",
       "1          Unknown\n",
       "2     never smoked\n",
       "3  formerly smoked"
      ]
     },
     "execution_count": 38,
     "metadata": {},
     "output_type": "execute_result"
    }
   ],
   "source": [
    "df.select(\"smoking_status\").distinct().toPandas()"
   ]
  },
  {
   "cell_type": "markdown",
   "metadata": {
    "id": "xJcZA5_oUnI0"
   },
   "source": [
    "Afin d'équilibrer notre jeu de donnée, il est impératif qu'une quantité exacte d\"informations soit disponible pour chaque entité de notre data set, cela dans le but d'augmenter la précision de nos prédictions à venir.\n",
    "\n",
    "On retirera donc durant la phase de preprocessing les entités avec une valeur de \"smoking_status\" à \"unknown\".\n",
    "\n",
    "On remarque également que la feature \"bmi\" est de type string qui devraient en fait être des valeurs numériques, il va donc falloir les convertir en double.\n",
    "Elle contient également des valeurs érronées (N/A) qui va falloir supprimer."
   ]
  },
  {
   "cell_type": "code",
   "execution_count": 39,
   "metadata": {
    "application/vnd.databricks.v1+cell": {
     "inputWidgets": {},
     "nuid": "009d5547-a522-4edf-8966-06f76b80e4f3",
     "showTitle": false,
     "title": ""
    }
   },
   "outputs": [
    {
     "name": "stdout",
     "output_type": "stream",
     "text": [
      "root\n",
      " |-- bmi: string (nullable = true)\n",
      "\n",
      "+----+\n",
      "| bmi|\n",
      "+----+\n",
      "|36.6|\n",
      "| N/A|\n",
      "+----+\n",
      "only showing top 2 rows\n",
      "\n"
     ]
    }
   ],
   "source": [
    "# Type de \"bmi\"\n",
    "df.select(\"bmi\").printSchema()\n",
    "\n",
    "# Valeur erronné (N/A) :\n",
    "df.select(\"bmi\").show(2)"
   ]
  },
  {
   "cell_type": "markdown",
   "metadata": {
    "id": "xJcZA5_oUnI0"
   },
   "source": [
    "La colonne \"id\" de notre dataframe sert uniquement d'attribut identifiante, elle n'est en rien un facteur de prédiction, on l'enlèvera donc durant la phase de clean data."
   ]
  },
  {
   "cell_type": "code",
   "execution_count": 40,
   "metadata": {
    "application/vnd.databricks.v1+cell": {
     "inputWidgets": {},
     "nuid": "009d5547-a522-4edf-8966-06f76b80e4f3",
     "showTitle": false,
     "title": ""
    }
   },
   "outputs": [
    {
     "name": "stdout",
     "output_type": "stream",
     "text": [
      "root\n",
      " |-- id: integer (nullable = true)\n",
      "\n"
     ]
    }
   ],
   "source": [
    "# Type de \"bmi\"\n",
    "df.select(\"id\").printSchema()"
   ]
  },
  {
   "cell_type": "markdown",
   "metadata": {
    "id": "xJcZA5_oUnI0",
    "tags": []
   },
   "source": [
    "<a id=\"title-five\"></a>\n",
    "<h1 style='background:#C4F1E8; border:2; border-radius: 10px; color:black'><center>Visualisation des données</center></h1>\n",
    "\n",
    "<h3 style='background:#F1C4EF; border:1; border-radius:10px; color:black'><center>Répartion des genres parmis les personnes ayant eu un AVC</center></h3>"
   ]
  },
  {
   "cell_type": "code",
   "execution_count": 41,
   "metadata": {
    "application/vnd.databricks.v1+cell": {
     "inputWidgets": {},
     "nuid": "009d5547-a522-4edf-8966-06f76b80e4f3",
     "showTitle": false,
     "title": ""
    }
   },
   "outputs": [
    {
     "data": {
      "text/plain": [
       "array([<AxesSubplot: ylabel='count'>], dtype=object)"
      ]
     },
     "execution_count": 41,
     "metadata": {},
     "output_type": "execute_result"
    },
    {
     "data": {
      "image/png": "[encoded data removed]",
      "text/plain": [
       "<Figure size 640x480 with 1 Axes>"
      ]
     },
     "metadata": {},
     "output_type": "display_data"
    }
   ],
   "source": [
    "colors = ['lightpink', 'lightskyblue']\n",
    "\n",
    "pandas_df = df.filter(df['stroke'] == 1).groupBy(\"stroke\", \"gender\").count().orderBy(\"stroke\").toPandas()\n",
    "pandas_df.set_index(\"gender\").plot.pie(y=\"count\", colors=colors, autopct='%1.0f%%', subplots=True)"
   ]
  },
  {
   "cell_type": "markdown",
   "metadata": {
    "id": "xJcZA5_oUnI0"
   },
   "source": [
    "<h3 style='background:#F1C4EF; border:1; border-radius:10px; color:black'><center>Répartion des types d'emplois parmis les personnes ayant eu un AVC</center></h3>"
   ]
  },
  {
   "cell_type": "code",
   "execution_count": 42,
   "metadata": {
    "application/vnd.databricks.v1+cell": {
     "inputWidgets": {},
     "nuid": "009d5547-a522-4edf-8966-06f76b80e4f3",
     "showTitle": false,
     "title": ""
    }
   },
   "outputs": [
    {
     "data": {
      "text/plain": [
       "array([<AxesSubplot: ylabel='count'>], dtype=object)"
      ]
     },
     "execution_count": 42,
     "metadata": {},
     "output_type": "execute_result"
    },
    {
     "data": {
      "image/png": "[encoded data removed]",
      "text/plain": [
       "<Figure size 640x480 with 1 Axes>"
      ]
     },
     "metadata": {},
     "output_type": "display_data"
    }
   ],
   "source": [
    "pandas_df = df.filter(df['stroke'] == 1).groupBy(\"stroke\", \"work_type\").count().orderBy(\"stroke\").toPandas()\n",
    "pandas_df.set_index(\"work_type\").plot.pie(y=\"count\", subplots=True, autopct='%1.0f%%')"
   ]
  },
  {
   "cell_type": "markdown",
   "metadata": {
    "id": "xJcZA5_oUnI0"
   },
   "source": [
    "Pour la culture : Un cas de stress excessif (crise d'angoisse, ...) affecte le système cardiovasculaire, endommageant ainsi les artères au cas où on le laisse passer sans traitement. Le dommage vasculaire peut mener éventuellement à un AVC, qui constitue une urgence médicale provenant d'une artère dans le cerveau qui soit se rompe, soit se bouche."
   ]
  },
  {
   "cell_type": "markdown",
   "metadata": {
    "id": "xJcZA5_oUnI0"
   },
   "source": [
    "<h3 style='background:#F1C4EF; border:1; border-radius:10px; color:black'><center>Personnes mariées parmis les personnes ayant eu un AVC</center></h3>"
   ]
  },
  {
   "cell_type": "code",
   "execution_count": 43,
   "metadata": {
    "application/vnd.databricks.v1+cell": {
     "inputWidgets": {},
     "nuid": "009d5547-a522-4edf-8966-06f76b80e4f3",
     "showTitle": false,
     "title": ""
    }
   },
   "outputs": [
    {
     "data": {
      "text/plain": [
       "array([<AxesSubplot: ylabel='count'>], dtype=object)"
      ]
     },
     "execution_count": 43,
     "metadata": {},
     "output_type": "execute_result"
    },
    {
     "data": {
      "image/png": "[encoded data removed]",
      "text/plain": [
       "<Figure size 640x480 with 1 Axes>"
      ]
     },
     "metadata": {},
     "output_type": "display_data"
    }
   ],
   "source": [
    "pandas_df = df.filter(df['stroke'] == 1).groupBy(\"stroke\", \"ever_married\").count().orderBy(\"stroke\").toPandas()\n",
    "pandas_df.set_index(\"ever_married\").plot.pie(y=\"count\", subplots=True, autopct='%1.0f%%')"
   ]
  },
  {
   "cell_type": "markdown",
   "metadata": {},
   "source": [
    "![ChessUrl](https://media1.giphy.com/media/jIIduCs5nkq2i2emoS/giphy.gif)"
   ]
  },
  {
   "cell_type": "markdown",
   "metadata": {
    "id": "xJcZA5_oUnI0"
   },
   "source": [
    "<h3 style='background:#F1C4EF; border:1; border-radius:10px; color:black'><center>Répartition des fumeurs / non fumeurs</center></h3>"
   ]
  },
  {
   "cell_type": "code",
   "execution_count": 44,
   "metadata": {
    "application/vnd.databricks.v1+cell": {
     "inputWidgets": {},
     "nuid": "009d5547-a522-4edf-8966-06f76b80e4f3",
     "showTitle": false,
     "title": ""
    }
   },
   "outputs": [
    {
     "data": {
      "text/plain": [
       "array([<AxesSubplot: ylabel='count'>], dtype=object)"
      ]
     },
     "execution_count": 44,
     "metadata": {},
     "output_type": "execute_result"
    },
    {
     "data": {
      "image/png": "[encoded data removed]",
      "text/plain": [
       "<Figure size 640x480 with 1 Axes>"
      ]
     },
     "metadata": {},
     "output_type": "display_data"
    }
   ],
   "source": [
    "pandas_df = df.filter(df['stroke'] == 1).groupBy(\"stroke\", \"smoking_status\").count().orderBy(\"stroke\").toPandas()\n",
    "pandas_df.set_index(\"smoking_status\").plot.pie(y=\"count\", subplots=True, autopct='%1.0f%%')"
   ]
  },
  {
   "cell_type": "markdown",
   "metadata": {
    "id": "xJcZA5_oUnI0"
   },
   "source": [
    "<h3 style='background:#F1C4EF; border:1; border-radius:10px; color:black'><center>Répartition des âges entre hommes et femmes</center></h3>"
   ]
  },
  {
   "cell_type": "code",
   "execution_count": 55,
   "metadata": {
    "application/vnd.databricks.v1+cell": {
     "inputWidgets": {},
     "nuid": "009d5547-a522-4edf-8966-06f76b80e4f3",
     "showTitle": false,
     "title": ""
    }
   },
   "outputs": [
    {
     "data": {
      "application/vnd.plotly.v1+json": {
       "config": {
        "linkText": "Export to plot.ly",
        "plotlyServerURL": "https://plot.ly",
        "showLink": true
       },
       "data": [
        {
         "histfunc": "count",
         "histnorm": "",
         "marker": {
          "color": "rgba(255, 153, 51, 1.0)",
          "line": {
           "color": "#4D5663",
           "width": 1.3
          }
         },
         "name": "Age homme",
         "nbinsx": 20,
         "opacity": 0.8,
         "orientation": "v",
         "type": "histogram",
         "x": [
          67,
          80,
          null,
          null,
          81,
          74,
          null,
          null,
          null,
          null,
          null,
          null,
          64,
          75,
          null,
          null,
          null,
          null,
          71,
          80,
          null,
          69,
          57,
          null,
          80,
          48,
          null,
          74,
          null,
          null,
          78,
          54,
          82,
          60,
          76,
          null,
          81,
          null,
          null,
          null,
          63,
          null,
          73,
          null,
          null,
          null,
          null,
          null,
          78,
          null,
          59,
          null,
          null,
          null,
          63,
          null,
          null,
          80,
          null,
          null,
          null,
          54,
          61,
          null,
          47,
          null,
          81,
          null,
          45,
          null,
          null,
          58,
          57,
          null,
          null,
          null,
          null,
          null,
          null,
          null,
          79,
          80,
          null,
          71,
          61,
          74,
          null,
          null,
          null,
          80,
          56,
          null,
          82,
          null,
          null,
          69,
          null,
          null,
          76,
          76,
          82,
          null,
          null,
          null,
          null,
          66,
          null,
          null,
          null,
          68,
          null,
          68,
          null,
          null,
          null,
          null,
          null,
          null,
          null,
          null,
          78,
          null,
          81,
          null,
          null,
          72,
          null,
          78,
          null,
          59,
          null,
          61,
          63,
          63,
          null,
          82,
          null,
          51,
          59,
          68,
          null,
          59,
          70,
          null,
          80,
          null,
          null,
          54,
          null,
          null,
          78,
          null,
          null,
          63,
          null,
          null,
          null,
          78,
          null,
          73,
          81,
          79,
          null,
          null,
          49,
          null,
          null,
          null,
          null,
          null,
          null,
          null,
          77,
          null,
          60,
          66,
          57,
          68,
          null,
          null
         ]
        },
        {
         "histfunc": "count",
         "histnorm": "",
         "marker": {
          "color": "rgba(55, 128, 191, 1.0)",
          "line": {
           "color": "#4D5663",
           "width": 1.3
          }
         },
         "name": "Age femme",
         "nbinsx": 20,
         "opacity": 0.8,
         "orientation": "v",
         "type": "histogram",
         "x": [
          null,
          null,
          49,
          79,
          null,
          null,
          69,
          81,
          61,
          54,
          79,
          50,
          null,
          null,
          60,
          71,
          52,
          79,
          null,
          null,
          65,
          null,
          null,
          82,
          null,
          null,
          82,
          null,
          72,
          49,
          null,
          null,
          null,
          null,
          null,
          58,
          null,
          39,
          79,
          77,
          null,
          82,
          null,
          54,
          56,
          80,
          67,
          45,
          null,
          70,
          null,
          80,
          67,
          66,
          null,
          52,
          80,
          null,
          79,
          79,
          68,
          null,
          null,
          70,
          null,
          79,
          null,
          57,
          null,
          78,
          70,
          null,
          null,
          69,
          77,
          74,
          50,
          54,
          79,
          53,
          null,
          null,
          45,
          null,
          null,
          null,
          38,
          77,
          58,
          null,
          null,
          72,
          null,
          73,
          78,
          null,
          68,
          71,
          null,
          null,
          null,
          59,
          74,
          69,
          72,
          null,
          78,
          57,
          70,
          null,
          80,
          null,
          55,
          77,
          50,
          57,
          71,
          81,
          78,
          70,
          null,
          79,
          null,
          60,
          80,
          null,
          80,
          null,
          46,
          null,
          32,
          null,
          null,
          null,
          82,
          null,
          65,
          null,
          null,
          null,
          72,
          null,
          null,
          74,
          null,
          77,
          78,
          null,
          78,
          81,
          null,
          39,
          51,
          null,
          48,
          81,
          79,
          null,
          55,
          null,
          null,
          null,
          63,
          81,
          null,
          81,
          39,
          80,
          81,
          79,
          73,
          77,
          null,
          51,
          null,
          null,
          null,
          null,
          68,
          75
         ]
        }
       ],
       "layout": {
        "autosize": true,
        "barmode": "overlay",
        "legend": {
         "bgcolor": "#FFFFFF",
         "font": {
          "color": "#4D5663"
         }
        },
        "paper_bgcolor": "#FFFFFF",
        "plot_bgcolor": "#FFFFFF",
        "template": {
         "data": {
          "bar": [
           {
            "error_x": {
             "color": "#2a3f5f"
            },
            "error_y": {
             "color": "#2a3f5f"
            },
            "marker": {
             "line": {
              "color": "#E5ECF6",
              "width": 0.5
             },
             "pattern": {
              "fillmode": "overlay",
              "size": 10,
              "solidity": 0.2
             }
            },
            "type": "bar"
           }
          ],
          "barpolar": [
           {
            "marker": {
             "line": {
              "color": "#E5ECF6",
              "width": 0.5
             },
             "pattern": {
              "fillmode": "overlay",
              "size": 10,
              "solidity": 0.2
             }
            },
            "type": "barpolar"
           }
          ],
          "carpet": [
           {
            "aaxis": {
             "endlinecolor": "#2a3f5f",
             "gridcolor": "white",
             "linecolor": "white",
             "minorgridcolor": "white",
             "startlinecolor": "#2a3f5f"
            },
            "baxis": {
             "endlinecolor": "#2a3f5f",
             "gridcolor": "white",
             "linecolor": "white",
             "minorgridcolor": "white",
             "startlinecolor": "#2a3f5f"
            },
            "type": "carpet"
           }
          ],
          "choropleth": [
           {
            "colorbar": {
             "outlinewidth": 0,
             "ticks": ""
            },
            "type": "choropleth"
           }
          ],
          "contour": [
           {
            "colorbar": {
             "outlinewidth": 0,
             "ticks": ""
            },
            "colorscale": [
             [
              0,
              "#0d0887"
             ],
             [
              0.1111111111111111,
              "#46039f"
             ],
             [
              0.2222222222222222,
              "#7201a8"
             ],
             [
              0.3333333333333333,
              "#9c179e"
             ],
             [
              0.4444444444444444,
              "#bd3786"
             ],
             [
              0.5555555555555556,
              "#d8576b"
             ],
             [
              0.6666666666666666,
              "#ed7953"
             ],
             [
              0.7777777777777778,
              "#fb9f3a"
             ],
             [
              0.8888888888888888,
              "#fdca26"
             ],
             [
              1,
              "#f0f921"
             ]
            ],
            "type": "contour"
           }
          ],
          "contourcarpet": [
           {
            "colorbar": {
             "outlinewidth": 0,
             "ticks": ""
            },
            "type": "contourcarpet"
           }
          ],
          "heatmap": [
           {
            "colorbar": {
             "outlinewidth": 0,
             "ticks": ""
            },
            "colorscale": [
             [
              0,
              "#0d0887"
             ],
             [
              0.1111111111111111,
              "#46039f"
             ],
             [
              0.2222222222222222,
              "#7201a8"
             ],
             [
              0.3333333333333333,
              "#9c179e"
             ],
             [
              0.4444444444444444,
              "#bd3786"
             ],
             [
              0.5555555555555556,
              "#d8576b"
             ],
             [
              0.6666666666666666,
              "#ed7953"
             ],
             [
              0.7777777777777778,
              "#fb9f3a"
             ],
             [
              0.8888888888888888,
              "#fdca26"
             ],
             [
              1,
              "#f0f921"
             ]
            ],
            "type": "heatmap"
           }
          ],
          "heatmapgl": [
           {
            "colorbar": {
             "outlinewidth": 0,
             "ticks": ""
            },
            "colorscale": [
             [
              0,
              "#0d0887"
             ],
             [
              0.1111111111111111,
              "#46039f"
             ],
             [
              0.2222222222222222,
              "#7201a8"
             ],
             [
              0.3333333333333333,
              "#9c179e"
             ],
             [
              0.4444444444444444,
              "#bd3786"
             ],
             [
              0.5555555555555556,
              "#d8576b"
             ],
             [
              0.6666666666666666,
              "#ed7953"
             ],
             [
              0.7777777777777778,
              "#fb9f3a"
             ],
             [
              0.8888888888888888,
              "#fdca26"
             ],
             [
              1,
              "#f0f921"
             ]
            ],
            "type": "heatmapgl"
           }
          ],
          "histogram": [
           {
            "marker": {
             "pattern": {
              "fillmode": "overlay",
              "size": 10,
              "solidity": 0.2
             }
            },
            "type": "histogram"
           }
          ],
          "histogram2d": [
           {
            "colorbar": {
             "outlinewidth": 0,
             "ticks": ""
            },
            "colorscale": [
             [
              0,
              "#0d0887"
             ],
             [
              0.1111111111111111,
              "#46039f"
             ],
             [
              0.2222222222222222,
              "#7201a8"
             ],
             [
              0.3333333333333333,
              "#9c179e"
             ],
             [
              0.4444444444444444,
              "#bd3786"
             ],
             [
              0.5555555555555556,
              "#d8576b"
             ],
             [
              0.6666666666666666,
              "#ed7953"
             ],
             [
              0.7777777777777778,
              "#fb9f3a"
             ],
             [
              0.8888888888888888,
              "#fdca26"
             ],
             [
              1,
              "#f0f921"
             ]
            ],
            "type": "histogram2d"
           }
          ],
          "histogram2dcontour": [
           {
            "colorbar": {
             "outlinewidth": 0,
             "ticks": ""
            },
            "colorscale": [
             [
              0,
              "#0d0887"
             ],
             [
              0.1111111111111111,
              "#46039f"
             ],
             [
              0.2222222222222222,
              "#7201a8"
             ],
             [
              0.3333333333333333,
              "#9c179e"
             ],
             [
              0.4444444444444444,
              "#bd3786"
             ],
             [
              0.5555555555555556,
              "#d8576b"
             ],
             [
              0.6666666666666666,
              "#ed7953"
             ],
             [
              0.7777777777777778,
              "#fb9f3a"
             ],
             [
              0.8888888888888888,
              "#fdca26"
             ],
             [
              1,
              "#f0f921"
             ]
            ],
            "type": "histogram2dcontour"
           }
          ],
          "mesh3d": [
           {
            "colorbar": {
             "outlinewidth": 0,
             "ticks": ""
            },
            "type": "mesh3d"
           }
          ],
          "parcoords": [
           {
            "line": {
             "colorbar": {
              "outlinewidth": 0,
              "ticks": ""
             }
            },
            "type": "parcoords"
           }
          ],
          "pie": [
           {
            "automargin": true,
            "type": "pie"
           }
          ],
          "scatter": [
           {
            "fillpattern": {
             "fillmode": "overlay",
             "size": 10,
             "solidity": 0.2
            },
            "type": "scatter"
           }
          ],
          "scatter3d": [
           {
            "line": {
             "colorbar": {
              "outlinewidth": 0,
              "ticks": ""
             }
            },
            "marker": {
             "colorbar": {
              "outlinewidth": 0,
              "ticks": ""
             }
            },
            "type": "scatter3d"
           }
          ],
          "scattercarpet": [
           {
            "marker": {
             "colorbar": {
              "outlinewidth": 0,
              "ticks": ""
             }
            },
            "type": "scattercarpet"
           }
          ],
          "scattergeo": [
           {
            "marker": {
             "colorbar": {
              "outlinewidth": 0,
              "ticks": ""
             }
            },
            "type": "scattergeo"
           }
          ],
          "scattergl": [
           {
            "marker": {
             "colorbar": {
              "outlinewidth": 0,
              "ticks": ""
             }
            },
            "type": "scattergl"
           }
          ],
          "scattermapbox": [
           {
            "marker": {
             "colorbar": {
              "outlinewidth": 0,
              "ticks": ""
             }
            },
            "type": "scattermapbox"
           }
          ],
          "scatterpolar": [
           {
            "marker": {
             "colorbar": {
              "outlinewidth": 0,
              "ticks": ""
             }
            },
            "type": "scatterpolar"
           }
          ],
          "scatterpolargl": [
           {
            "marker": {
             "colorbar": {
              "outlinewidth": 0,
              "ticks": ""
             }
            },
            "type": "scatterpolargl"
           }
          ],
          "scatterternary": [
           {
            "marker": {
             "colorbar": {
              "outlinewidth": 0,
              "ticks": ""
             }
            },
            "type": "scatterternary"
           }
          ],
          "surface": [
           {
            "colorbar": {
             "outlinewidth": 0,
             "ticks": ""
            },
            "colorscale": [
             [
              0,
              "#0d0887"
             ],
             [
              0.1111111111111111,
              "#46039f"
             ],
             [
              0.2222222222222222,
              "#7201a8"
             ],
             [
              0.3333333333333333,
              "#9c179e"
             ],
             [
              0.4444444444444444,
              "#bd3786"
             ],
             [
              0.5555555555555556,
              "#d8576b"
             ],
             [
              0.6666666666666666,
              "#ed7953"
             ],
             [
              0.7777777777777778,
              "#fb9f3a"
             ],
             [
              0.8888888888888888,
              "#fdca26"
             ],
             [
              1,
              "#f0f921"
             ]
            ],
            "type": "surface"
           }
          ],
          "table": [
           {
            "cells": {
             "fill": {
              "color": "#EBF0F8"
             },
             "line": {
              "color": "white"
             }
            },
            "header": {
             "fill": {
              "color": "#C8D4E3"
             },
             "line": {
              "color": "white"
             }
            },
            "type": "table"
           }
          ]
         },
         "layout": {
          "annotationdefaults": {
           "arrowcolor": "#2a3f5f",
           "arrowhead": 0,
           "arrowwidth": 1
          },
          "autotypenumbers": "strict",
          "coloraxis": {
           "colorbar": {
            "outlinewidth": 0,
            "ticks": ""
           }
          },
          "colorscale": {
           "diverging": [
            [
             0,
             "#8e0152"
            ],
            [
             0.1,
             "#c51b7d"
            ],
            [
             0.2,
             "#de77ae"
            ],
            [
             0.3,
             "#f1b6da"
            ],
            [
             0.4,
             "#fde0ef"
            ],
            [
             0.5,
             "#f7f7f7"
            ],
            [
             0.6,
             "#e6f5d0"
            ],
            [
             0.7,
             "#b8e186"
            ],
            [
             0.8,
             "#7fbc41"
            ],
            [
             0.9,
             "#4d9221"
            ],
            [
             1,
             "#276419"
            ]
           ],
           "sequential": [
            [
             0,
             "#0d0887"
            ],
            [
             0.1111111111111111,
             "#46039f"
            ],
            [
             0.2222222222222222,
             "#7201a8"
            ],
            [
             0.3333333333333333,
             "#9c179e"
            ],
            [
             0.4444444444444444,
             "#bd3786"
            ],
            [
             0.5555555555555556,
             "#d8576b"
            ],
            [
             0.6666666666666666,
             "#ed7953"
            ],
            [
             0.7777777777777778,
             "#fb9f3a"
            ],
            [
             0.8888888888888888,
             "#fdca26"
            ],
            [
             1,
             "#f0f921"
            ]
           ],
           "sequentialminus": [
            [
             0,
             "#0d0887"
            ],
            [
             0.1111111111111111,
             "#46039f"
            ],
            [
             0.2222222222222222,
             "#7201a8"
            ],
            [
             0.3333333333333333,
             "#9c179e"
            ],
            [
             0.4444444444444444,
             "#bd3786"
            ],
            [
             0.5555555555555556,
             "#d8576b"
            ],
            [
             0.6666666666666666,
             "#ed7953"
            ],
            [
             0.7777777777777778,
             "#fb9f3a"
            ],
            [
             0.8888888888888888,
             "#fdca26"
            ],
            [
             1,
             "#f0f921"
            ]
           ]
          },
          "colorway": [
           "#636efa",
           "#EF553B",
           "#00cc96",
           "#ab63fa",
           "#FFA15A",
           "#19d3f3",
           "#FF6692",
           "#B6E880",
           "#FF97FF",
           "#FECB52"
          ],
          "font": {
           "color": "#2a3f5f"
          },
          "geo": {
           "bgcolor": "white",
           "lakecolor": "white",
           "landcolor": "#E5ECF6",
           "showlakes": true,
           "showland": true,
           "subunitcolor": "white"
          },
          "hoverlabel": {
           "align": "left"
          },
          "hovermode": "closest",
          "mapbox": {
           "style": "light"
          },
          "paper_bgcolor": "white",
          "plot_bgcolor": "#E5ECF6",
          "polar": {
           "angularaxis": {
            "gridcolor": "white",
            "linecolor": "white",
            "ticks": ""
           },
           "bgcolor": "#E5ECF6",
           "radialaxis": {
            "gridcolor": "white",
            "linecolor": "white",
            "ticks": ""
           }
          },
          "scene": {
           "xaxis": {
            "backgroundcolor": "#E5ECF6",
            "gridcolor": "white",
            "gridwidth": 2,
            "linecolor": "white",
            "showbackground": true,
            "ticks": "",
            "zerolinecolor": "white"
           },
           "yaxis": {
            "backgroundcolor": "#E5ECF6",
            "gridcolor": "white",
            "gridwidth": 2,
            "linecolor": "white",
            "showbackground": true,
            "ticks": "",
            "zerolinecolor": "white"
           },
           "zaxis": {
            "backgroundcolor": "#E5ECF6",
            "gridcolor": "white",
            "gridwidth": 2,
            "linecolor": "white",
            "showbackground": true,
            "ticks": "",
            "zerolinecolor": "white"
           }
          },
          "shapedefaults": {
           "line": {
            "color": "#2a3f5f"
           }
          },
          "ternary": {
           "aaxis": {
            "gridcolor": "white",
            "linecolor": "white",
            "ticks": ""
           },
           "baxis": {
            "gridcolor": "white",
            "linecolor": "white",
            "ticks": ""
           },
           "bgcolor": "#E5ECF6",
           "caxis": {
            "gridcolor": "white",
            "linecolor": "white",
            "ticks": ""
           }
          },
          "title": {
           "x": 0.05
          },
          "xaxis": {
           "automargin": true,
           "gridcolor": "white",
           "linecolor": "white",
           "ticks": "",
           "title": {
            "standoff": 15
           },
           "zerolinecolor": "white",
           "zerolinewidth": 2
          },
          "yaxis": {
           "automargin": true,
           "gridcolor": "white",
           "linecolor": "white",
           "ticks": "",
           "title": {
            "standoff": 15
           },
           "zerolinecolor": "white",
           "zerolinewidth": 2
          }
         }
        },
        "title": {
         "font": {
          "color": "#4D5663"
         },
         "text": "Ages répartis des AVC"
        },
        "xaxis": {
         "autorange": true,
         "gridcolor": "#E1E5ED",
         "range": [
          29.5,
          84.5
         ],
         "showgrid": true,
         "tickfont": {
          "color": "#4D5663"
         },
         "title": {
          "font": {
           "color": "#4D5663"
          },
          "text": "Ages"
         },
         "type": "linear",
         "zerolinecolor": "#E1E5ED"
        },
        "yaxis": {
         "autorange": true,
         "gridcolor": "#E1E5ED",
         "range": [
          0,
          25.263157894736842
         ],
         "showgrid": true,
         "tickfont": {
          "color": "#4D5663"
         },
         "title": {
          "font": {
           "color": "#4D5663"
          },
          "text": "Count"
         },
         "zerolinecolor": "#E1E5ED"
        }
       }
      },
      "image/png": "[encoded data removed]",
      "text/html": [
       "<div>                            <div id=\"419371c4-f987-4845-a982-9099a8702e54\" class=\"plotly-graph-div\" style=\"height:525px; width:100%;\"></div>            <script type=\"text/javascript\">                require([\"plotly\"], function(Plotly) {                    window.PLOTLYENV=window.PLOTLYENV || {};\n",
       "                    window.PLOTLYENV.BASE_URL='https://plot.ly';                                    if (document.getElementById(\"419371c4-f987-4845-a982-9099a8702e54\")) {                    Plotly.newPlot(                        \"419371c4-f987-4845-a982-9099a8702e54\",                        [{\"histfunc\":\"count\",\"histnorm\":\"\",\"marker\":{\"color\":\"rgba(255, 153, 51, 1.0)\",\"line\":{\"color\":\"#4D5663\",\"width\":1.3}},\"name\":\"Age homme\",\"nbinsx\":20,\"opacity\":0.8,\"orientation\":\"v\",\"x\":[67.0,80.0,null,null,81.0,74.0,null,null,null,null,null,null,64.0,75.0,null,null,null,null,71.0,80.0,null,69.0,57.0,null,80.0,48.0,null,74.0,null,null,78.0,54.0,82.0,60.0,76.0,null,81.0,null,null,null,63.0,null,73.0,null,null,null,null,null,78.0,null,59.0,null,null,null,63.0,null,null,80.0,null,null,null,54.0,61.0,null,47.0,null,81.0,null,45.0,null,null,58.0,57.0,null,null,null,null,null,null,null,79.0,80.0,null,71.0,61.0,74.0,null,null,null,80.0,56.0,null,82.0,null,null,69.0,null,null,76.0,76.0,82.0,null,null,null,null,66.0,null,null,null,68.0,null,68.0,null,null,null,null,null,null,null,null,78.0,null,81.0,null,null,72.0,null,78.0,null,59.0,null,61.0,63.0,63.0,null,82.0,null,51.0,59.0,68.0,null,59.0,70.0,null,80.0,null,null,54.0,null,null,78.0,null,null,63.0,null,null,null,78.0,null,73.0,81.0,79.0,null,null,49.0,null,null,null,null,null,null,null,77.0,null,60.0,66.0,57.0,68.0,null,null],\"type\":\"histogram\"},{\"histfunc\":\"count\",\"histnorm\":\"\",\"marker\":{\"color\":\"rgba(55, 128, 191, 1.0)\",\"line\":{\"color\":\"#4D5663\",\"width\":1.3}},\"name\":\"Age femme\",\"nbinsx\":20,\"opacity\":0.8,\"orientation\":\"v\",\"x\":[null,null,49.0,79.0,null,null,69.0,81.0,61.0,54.0,79.0,50.0,null,null,60.0,71.0,52.0,79.0,null,null,65.0,null,null,82.0,null,null,82.0,null,72.0,49.0,null,null,null,null,null,58.0,null,39.0,79.0,77.0,null,82.0,null,54.0,56.0,80.0,67.0,45.0,null,70.0,null,80.0,67.0,66.0,null,52.0,80.0,null,79.0,79.0,68.0,null,null,70.0,null,79.0,null,57.0,null,78.0,70.0,null,null,69.0,77.0,74.0,50.0,54.0,79.0,53.0,null,null,45.0,null,null,null,38.0,77.0,58.0,null,null,72.0,null,73.0,78.0,null,68.0,71.0,null,null,null,59.0,74.0,69.0,72.0,null,78.0,57.0,70.0,null,80.0,null,55.0,77.0,50.0,57.0,71.0,81.0,78.0,70.0,null,79.0,null,60.0,80.0,null,80.0,null,46.0,null,32.0,null,null,null,82.0,null,65.0,null,null,null,72.0,null,null,74.0,null,77.0,78.0,null,78.0,81.0,null,39.0,51.0,null,48.0,81.0,79.0,null,55.0,null,null,null,63.0,81.0,null,81.0,39.0,80.0,81.0,79.0,73.0,77.0,null,51.0,null,null,null,null,68.0,75.0],\"type\":\"histogram\"}],                        {\"barmode\":\"overlay\",\"legend\":{\"bgcolor\":\"#FFFFFF\",\"font\":{\"color\":\"#4D5663\"}},\"paper_bgcolor\":\"#FFFFFF\",\"plot_bgcolor\":\"#FFFFFF\",\"template\":{\"data\":{\"barpolar\":[{\"marker\":{\"line\":{\"color\":\"#E5ECF6\",\"width\":0.5},\"pattern\":{\"fillmode\":\"overlay\",\"size\":10,\"solidity\":0.2}},\"type\":\"barpolar\"}],\"bar\":[{\"error_x\":{\"color\":\"#2a3f5f\"},\"error_y\":{\"color\":\"#2a3f5f\"},\"marker\":{\"line\":{\"color\":\"#E5ECF6\",\"width\":0.5},\"pattern\":{\"fillmode\":\"overlay\",\"size\":10,\"solidity\":0.2}},\"type\":\"bar\"}],\"carpet\":[{\"aaxis\":{\"endlinecolor\":\"#2a3f5f\",\"gridcolor\":\"white\",\"linecolor\":\"white\",\"minorgridcolor\":\"white\",\"startlinecolor\":\"#2a3f5f\"},\"baxis\":{\"endlinecolor\":\"#2a3f5f\",\"gridcolor\":\"white\",\"linecolor\":\"white\",\"minorgridcolor\":\"white\",\"startlinecolor\":\"#2a3f5f\"},\"type\":\"carpet\"}],\"choropleth\":[{\"colorbar\":{\"outlinewidth\":0,\"ticks\":\"\"},\"type\":\"choropleth\"}],\"contourcarpet\":[{\"colorbar\":{\"outlinewidth\":0,\"ticks\":\"\"},\"type\":\"contourcarpet\"}],\"contour\":[{\"colorbar\":{\"outlinewidth\":0,\"ticks\":\"\"},\"colorscale\":[[0.0,\"#0d0887\"],[0.1111111111111111,\"#46039f\"],[0.2222222222222222,\"#7201a8\"],[0.3333333333333333,\"#9c179e\"],[0.4444444444444444,\"#bd3786\"],[0.5555555555555556,\"#d8576b\"],[0.6666666666666666,\"#ed7953\"],[0.7777777777777778,\"#fb9f3a\"],[0.8888888888888888,\"#fdca26\"],[1.0,\"#f0f921\"]],\"type\":\"contour\"}],\"heatmapgl\":[{\"colorbar\":{\"outlinewidth\":0,\"ticks\":\"\"},\"colorscale\":[[0.0,\"#0d0887\"],[0.1111111111111111,\"#46039f\"],[0.2222222222222222,\"#7201a8\"],[0.3333333333333333,\"#9c179e\"],[0.4444444444444444,\"#bd3786\"],[0.5555555555555556,\"#d8576b\"],[0.6666666666666666,\"#ed7953\"],[0.7777777777777778,\"#fb9f3a\"],[0.8888888888888888,\"#fdca26\"],[1.0,\"#f0f921\"]],\"type\":\"heatmapgl\"}],\"heatmap\":[{\"colorbar\":{\"outlinewidth\":0,\"ticks\":\"\"},\"colorscale\":[[0.0,\"#0d0887\"],[0.1111111111111111,\"#46039f\"],[0.2222222222222222,\"#7201a8\"],[0.3333333333333333,\"#9c179e\"],[0.4444444444444444,\"#bd3786\"],[0.5555555555555556,\"#d8576b\"],[0.6666666666666666,\"#ed7953\"],[0.7777777777777778,\"#fb9f3a\"],[0.8888888888888888,\"#fdca26\"],[1.0,\"#f0f921\"]],\"type\":\"heatmap\"}],\"histogram2dcontour\":[{\"colorbar\":{\"outlinewidth\":0,\"ticks\":\"\"},\"colorscale\":[[0.0,\"#0d0887\"],[0.1111111111111111,\"#46039f\"],[0.2222222222222222,\"#7201a8\"],[0.3333333333333333,\"#9c179e\"],[0.4444444444444444,\"#bd3786\"],[0.5555555555555556,\"#d8576b\"],[0.6666666666666666,\"#ed7953\"],[0.7777777777777778,\"#fb9f3a\"],[0.8888888888888888,\"#fdca26\"],[1.0,\"#f0f921\"]],\"type\":\"histogram2dcontour\"}],\"histogram2d\":[{\"colorbar\":{\"outlinewidth\":0,\"ticks\":\"\"},\"colorscale\":[[0.0,\"#0d0887\"],[0.1111111111111111,\"#46039f\"],[0.2222222222222222,\"#7201a8\"],[0.3333333333333333,\"#9c179e\"],[0.4444444444444444,\"#bd3786\"],[0.5555555555555556,\"#d8576b\"],[0.6666666666666666,\"#ed7953\"],[0.7777777777777778,\"#fb9f3a\"],[0.8888888888888888,\"#fdca26\"],[1.0,\"#f0f921\"]],\"type\":\"histogram2d\"}],\"histogram\":[{\"marker\":{\"pattern\":{\"fillmode\":\"overlay\",\"size\":10,\"solidity\":0.2}},\"type\":\"histogram\"}],\"mesh3d\":[{\"colorbar\":{\"outlinewidth\":0,\"ticks\":\"\"},\"type\":\"mesh3d\"}],\"parcoords\":[{\"line\":{\"colorbar\":{\"outlinewidth\":0,\"ticks\":\"\"}},\"type\":\"parcoords\"}],\"pie\":[{\"automargin\":true,\"type\":\"pie\"}],\"scatter3d\":[{\"line\":{\"colorbar\":{\"outlinewidth\":0,\"ticks\":\"\"}},\"marker\":{\"colorbar\":{\"outlinewidth\":0,\"ticks\":\"\"}},\"type\":\"scatter3d\"}],\"scattercarpet\":[{\"marker\":{\"colorbar\":{\"outlinewidth\":0,\"ticks\":\"\"}},\"type\":\"scattercarpet\"}],\"scattergeo\":[{\"marker\":{\"colorbar\":{\"outlinewidth\":0,\"ticks\":\"\"}},\"type\":\"scattergeo\"}],\"scattergl\":[{\"marker\":{\"colorbar\":{\"outlinewidth\":0,\"ticks\":\"\"}},\"type\":\"scattergl\"}],\"scattermapbox\":[{\"marker\":{\"colorbar\":{\"outlinewidth\":0,\"ticks\":\"\"}},\"type\":\"scattermapbox\"}],\"scatterpolargl\":[{\"marker\":{\"colorbar\":{\"outlinewidth\":0,\"ticks\":\"\"}},\"type\":\"scatterpolargl\"}],\"scatterpolar\":[{\"marker\":{\"colorbar\":{\"outlinewidth\":0,\"ticks\":\"\"}},\"type\":\"scatterpolar\"}],\"scatter\":[{\"fillpattern\":{\"fillmode\":\"overlay\",\"size\":10,\"solidity\":0.2},\"type\":\"scatter\"}],\"scatterternary\":[{\"marker\":{\"colorbar\":{\"outlinewidth\":0,\"ticks\":\"\"}},\"type\":\"scatterternary\"}],\"surface\":[{\"colorbar\":{\"outlinewidth\":0,\"ticks\":\"\"},\"colorscale\":[[0.0,\"#0d0887\"],[0.1111111111111111,\"#46039f\"],[0.2222222222222222,\"#7201a8\"],[0.3333333333333333,\"#9c179e\"],[0.4444444444444444,\"#bd3786\"],[0.5555555555555556,\"#d8576b\"],[0.6666666666666666,\"#ed7953\"],[0.7777777777777778,\"#fb9f3a\"],[0.8888888888888888,\"#fdca26\"],[1.0,\"#f0f921\"]],\"type\":\"surface\"}],\"table\":[{\"cells\":{\"fill\":{\"color\":\"#EBF0F8\"},\"line\":{\"color\":\"white\"}},\"header\":{\"fill\":{\"color\":\"#C8D4E3\"},\"line\":{\"color\":\"white\"}},\"type\":\"table\"}]},\"layout\":{\"annotationdefaults\":{\"arrowcolor\":\"#2a3f5f\",\"arrowhead\":0,\"arrowwidth\":1},\"autotypenumbers\":\"strict\",\"coloraxis\":{\"colorbar\":{\"outlinewidth\":0,\"ticks\":\"\"}},\"colorscale\":{\"diverging\":[[0,\"#8e0152\"],[0.1,\"#c51b7d\"],[0.2,\"#de77ae\"],[0.3,\"#f1b6da\"],[0.4,\"#fde0ef\"],[0.5,\"#f7f7f7\"],[0.6,\"#e6f5d0\"],[0.7,\"#b8e186\"],[0.8,\"#7fbc41\"],[0.9,\"#4d9221\"],[1,\"#276419\"]],\"sequential\":[[0.0,\"#0d0887\"],[0.1111111111111111,\"#46039f\"],[0.2222222222222222,\"#7201a8\"],[0.3333333333333333,\"#9c179e\"],[0.4444444444444444,\"#bd3786\"],[0.5555555555555556,\"#d8576b\"],[0.6666666666666666,\"#ed7953\"],[0.7777777777777778,\"#fb9f3a\"],[0.8888888888888888,\"#fdca26\"],[1.0,\"#f0f921\"]],\"sequentialminus\":[[0.0,\"#0d0887\"],[0.1111111111111111,\"#46039f\"],[0.2222222222222222,\"#7201a8\"],[0.3333333333333333,\"#9c179e\"],[0.4444444444444444,\"#bd3786\"],[0.5555555555555556,\"#d8576b\"],[0.6666666666666666,\"#ed7953\"],[0.7777777777777778,\"#fb9f3a\"],[0.8888888888888888,\"#fdca26\"],[1.0,\"#f0f921\"]]},\"colorway\":[\"#636efa\",\"#EF553B\",\"#00cc96\",\"#ab63fa\",\"#FFA15A\",\"#19d3f3\",\"#FF6692\",\"#B6E880\",\"#FF97FF\",\"#FECB52\"],\"font\":{\"color\":\"#2a3f5f\"},\"geo\":{\"bgcolor\":\"white\",\"lakecolor\":\"white\",\"landcolor\":\"#E5ECF6\",\"showlakes\":true,\"showland\":true,\"subunitcolor\":\"white\"},\"hoverlabel\":{\"align\":\"left\"},\"hovermode\":\"closest\",\"mapbox\":{\"style\":\"light\"},\"paper_bgcolor\":\"white\",\"plot_bgcolor\":\"#E5ECF6\",\"polar\":{\"angularaxis\":{\"gridcolor\":\"white\",\"linecolor\":\"white\",\"ticks\":\"\"},\"bgcolor\":\"#E5ECF6\",\"radialaxis\":{\"gridcolor\":\"white\",\"linecolor\":\"white\",\"ticks\":\"\"}},\"scene\":{\"xaxis\":{\"backgroundcolor\":\"#E5ECF6\",\"gridcolor\":\"white\",\"gridwidth\":2,\"linecolor\":\"white\",\"showbackground\":true,\"ticks\":\"\",\"zerolinecolor\":\"white\"},\"yaxis\":{\"backgroundcolor\":\"#E5ECF6\",\"gridcolor\":\"white\",\"gridwidth\":2,\"linecolor\":\"white\",\"showbackground\":true,\"ticks\":\"\",\"zerolinecolor\":\"white\"},\"zaxis\":{\"backgroundcolor\":\"#E5ECF6\",\"gridcolor\":\"white\",\"gridwidth\":2,\"linecolor\":\"white\",\"showbackground\":true,\"ticks\":\"\",\"zerolinecolor\":\"white\"}},\"shapedefaults\":{\"line\":{\"color\":\"#2a3f5f\"}},\"ternary\":{\"aaxis\":{\"gridcolor\":\"white\",\"linecolor\":\"white\",\"ticks\":\"\"},\"baxis\":{\"gridcolor\":\"white\",\"linecolor\":\"white\",\"ticks\":\"\"},\"bgcolor\":\"#E5ECF6\",\"caxis\":{\"gridcolor\":\"white\",\"linecolor\":\"white\",\"ticks\":\"\"}},\"title\":{\"x\":0.05},\"xaxis\":{\"automargin\":true,\"gridcolor\":\"white\",\"linecolor\":\"white\",\"ticks\":\"\",\"title\":{\"standoff\":15},\"zerolinecolor\":\"white\",\"zerolinewidth\":2},\"yaxis\":{\"automargin\":true,\"gridcolor\":\"white\",\"linecolor\":\"white\",\"ticks\":\"\",\"title\":{\"standoff\":15},\"zerolinecolor\":\"white\",\"zerolinewidth\":2}}},\"title\":{\"font\":{\"color\":\"#4D5663\"},\"text\":\"Ages r\\u00e9partis des AVC\"},\"xaxis\":{\"gridcolor\":\"#E1E5ED\",\"showgrid\":true,\"tickfont\":{\"color\":\"#4D5663\"},\"title\":{\"font\":{\"color\":\"#4D5663\"},\"text\":\"Ages\"},\"zerolinecolor\":\"#E1E5ED\"},\"yaxis\":{\"gridcolor\":\"#E1E5ED\",\"showgrid\":true,\"tickfont\":{\"color\":\"#4D5663\"},\"title\":{\"font\":{\"color\":\"#4D5663\"},\"text\":\"Count\"},\"zerolinecolor\":\"#E1E5ED\"}},                        {\"showLink\": true, \"linkText\": \"Export to plot.ly\", \"plotlyServerURL\": \"https://plot.ly\", \"responsive\": true}                    ).then(function(){\n",
       "                            \n",
       "var gd = document.getElementById('419371c4-f987-4845-a982-9099a8702e54');\n",
       "var x = new MutationObserver(function (mutations, observer) {{\n",
       "        var display = window.getComputedStyle(gd).display;\n",
       "        if (!display || display === 'none') {{\n",
       "            console.log([gd, 'removed!']);\n",
       "            Plotly.purge(gd);\n",
       "            observer.disconnect();\n",
       "        }}\n",
       "}});\n",
       "\n",
       "// Listen for the removal of the full notebook cells\n",
       "var notebookContainer = gd.closest('#notebook-container');\n",
       "if (notebookContainer) {{\n",
       "    x.observe(notebookContainer, {childList: true});\n",
       "}}\n",
       "\n",
       "// Listen for the clearing of the current output cell\n",
       "var outputEl = gd.closest('.output');\n",
       "if (outputEl) {{\n",
       "    x.observe(outputEl, {childList: true});\n",
       "}}\n",
       "\n",
       "                        })                };                });            </script>        </div>"
      ]
     },
     "metadata": {},
     "output_type": "display_data"
    }
   ],
   "source": [
    "stroke = df.toPandas().loc[df.toPandas()['stroke'] == 1].reset_index()\n",
    "\n",
    "stroke[\"Age homme\"] = stroke[stroke[\"gender\"] == \"Male\"][\"age\"]\n",
    "stroke[\"Age femme\"] = stroke[stroke[\"gender\"] == \"Female\"][\"age\"]\n",
    "\n",
    "stroke[[\"Age homme\",\"Age femme\"]].iplot(\n",
    "   kind=\"histogram\", bins=20, theme=\"white\", title=\"Ages répartis des AVC\",\n",
    "   xTitle='Ages', yTitle='Count'\n",
    ")"
   ]
  },
  {
   "cell_type": "markdown",
   "metadata": {
    "id": "xJcZA5_oUnI0"
   },
   "source": [
    "<a id=\"title-five\"></a>\n",
    "<h1 style='background:#C4F1E8; border:2; border-radius: 10px; color:black'><center>DATA PREPROCESSING</center></h1>\n",
    "\n",
    "<h3 style='background:#F1C4EF; border:1; border-radius:10px; color:black'><center>Clean data</center></h3>"
   ]
  },
  {
   "cell_type": "markdown",
   "metadata": {
    "id": "xJcZA5_oUnI0"
   },
   "source": [
    "Comme mentionée plus haut durant la phase d'analyse des données, il est primordiale de supprimer les données erronnés/inutiles.\n",
    "\n",
    "Egalement, il sera impératif de transformer nos données en données numériques.\n",
    "\n",
    "Pour cela, il nous sera utile d'utiliser : \n",
    "\n",
    "- StringIndexer : il nous servira à convertir les valeurs string binaire (true/false, yes/no, ...) en valeur numérique (0 et 1). Par exemple, la feature \"ever_married\", les valeurs par défauts sont \"yes\" et \"no\", elles seront transformées en 0 et 1.\n",
    "- OneHotEncoder : il nous servira à construire des matrices binaires pour nos features possédant plusieurs modalités possible. Par exemple, la feature \"work_type\" peut avoir plusieurs valeurs (Private, Self-employed, Private, Children)\n",
    "- Vecteur assembleur : il nous servira a obtenir pour chaque entité l'ensemble de leur feature stocké dans une colonne.\n",
    "\n",
    "Nous entamerons la transformation de notre dataframe en sous-étapes éxécuté dans une pipeline machine learning."
   ]
  },
  {
   "cell_type": "code",
   "execution_count": 46,
   "metadata": {
    "application/vnd.databricks.v1+cell": {
     "inputWidgets": {},
     "nuid": "6d5a8618-b6de-4ac8-91d2-c2aee036f467",
     "showTitle": false,
     "title": ""
    }
   },
   "outputs": [
    {
     "data": {
      "text/html": [
       "<div>\n",
       "<style scoped>\n",
       "    .dataframe tbody tr th:only-of-type {\n",
       "        vertical-align: middle;\n",
       "    }\n",
       "\n",
       "    .dataframe tbody tr th {\n",
       "        vertical-align: top;\n",
       "    }\n",
       "\n",
       "    .dataframe thead th {\n",
       "        text-align: right;\n",
       "    }\n",
       "</style>\n",
       "<table border=\"1\" class=\"dataframe\">\n",
       "  <thead>\n",
       "    <tr style=\"text-align: right;\">\n",
       "      <th></th>\n",
       "      <th>gender</th>\n",
       "    </tr>\n",
       "  </thead>\n",
       "  <tbody>\n",
       "    <tr>\n",
       "      <th>0</th>\n",
       "      <td>Female</td>\n",
       "    </tr>\n",
       "    <tr>\n",
       "      <th>1</th>\n",
       "      <td>Male</td>\n",
       "    </tr>\n",
       "  </tbody>\n",
       "</table>\n",
       "</div>"
      ],
      "text/plain": [
       "   gender\n",
       "0  Female\n",
       "1    Male"
      ]
     },
     "execution_count": 46,
     "metadata": {},
     "output_type": "execute_result"
    }
   ],
   "source": [
    "df = df.filter(df[\"gender\"] != \"Other\")\n",
    "\n",
    "# Affichage des valeurs possible de \"gender\" après suppression :\n",
    "df.select(\"gender\").distinct().toPandas()"
   ]
  },
  {
   "cell_type": "code",
   "execution_count": 47,
   "metadata": {
    "application/vnd.databricks.v1+cell": {
     "inputWidgets": {},
     "nuid": "6d5a8618-b6de-4ac8-91d2-c2aee036f467",
     "showTitle": false,
     "title": ""
    }
   },
   "outputs": [
    {
     "data": {
      "text/html": [
       "<div>\n",
       "<style scoped>\n",
       "    .dataframe tbody tr th:only-of-type {\n",
       "        vertical-align: middle;\n",
       "    }\n",
       "\n",
       "    .dataframe tbody tr th {\n",
       "        vertical-align: top;\n",
       "    }\n",
       "\n",
       "    .dataframe thead th {\n",
       "        text-align: right;\n",
       "    }\n",
       "</style>\n",
       "<table border=\"1\" class=\"dataframe\">\n",
       "  <thead>\n",
       "    <tr style=\"text-align: right;\">\n",
       "      <th></th>\n",
       "      <th>smoking_status</th>\n",
       "    </tr>\n",
       "  </thead>\n",
       "  <tbody>\n",
       "    <tr>\n",
       "      <th>0</th>\n",
       "      <td>smokes</td>\n",
       "    </tr>\n",
       "    <tr>\n",
       "      <th>1</th>\n",
       "      <td>never smoked</td>\n",
       "    </tr>\n",
       "    <tr>\n",
       "      <th>2</th>\n",
       "      <td>formerly smoked</td>\n",
       "    </tr>\n",
       "  </tbody>\n",
       "</table>\n",
       "</div>"
      ],
      "text/plain": [
       "    smoking_status\n",
       "0           smokes\n",
       "1     never smoked\n",
       "2  formerly smoked"
      ]
     },
     "execution_count": 47,
     "metadata": {},
     "output_type": "execute_result"
    }
   ],
   "source": [
    "df = df.filter(df[\"smoking_status\"] != \"Unknown\")\n",
    "\n",
    "# Affichage des valeurs possible de \"smoking_status\" après suppression :\n",
    "df.select(\"smoking_status\").distinct().toPandas()"
   ]
  },
  {
   "cell_type": "code",
   "execution_count": 48,
   "metadata": {
    "application/vnd.databricks.v1+cell": {
     "inputWidgets": {},
     "nuid": "6d5a8618-b6de-4ac8-91d2-c2aee036f467",
     "showTitle": false,
     "title": ""
    }
   },
   "outputs": [
    {
     "name": "stdout",
     "output_type": "stream",
     "text": [
      "root\n",
      " |-- bmi: double (nullable = true)\n",
      "\n"
     ]
    }
   ],
   "source": [
    "# Retire les \"not applicable\" bmi\n",
    "df = df.filter(df[\"bmi\"] != \"N/A\")\n",
    "\n",
    "# Convertir BMI en type double\n",
    "df = df.withColumn(\"bmi\", df.bmi.cast(DoubleType()))\n",
    "df.select(\"bmi\").printSchema()"
   ]
  },
  {
   "cell_type": "code",
   "execution_count": 49,
   "metadata": {
    "application/vnd.databricks.v1+cell": {
     "inputWidgets": {},
     "nuid": "6d5a8618-b6de-4ac8-91d2-c2aee036f467",
     "showTitle": false,
     "title": ""
    }
   },
   "outputs": [],
   "source": [
    "# On supprime la colonne \"id\"\n",
    "df = df.drop(\"id\")"
   ]
  },
  {
   "cell_type": "code",
   "execution_count": 50,
   "metadata": {
    "application/vnd.databricks.v1+cell": {
     "inputWidgets": {},
     "nuid": "6d5a8618-b6de-4ac8-91d2-c2aee036f467",
     "showTitle": false,
     "title": ""
    }
   },
   "outputs": [
    {
     "data": {
      "text/plain": [
       "gender               0\n",
       "age                  0\n",
       "hypertension         0\n",
       "heart_disease        0\n",
       "ever_married         0\n",
       "work_type            0\n",
       "Residence_type       0\n",
       "avg_glucose_level    0\n",
       "bmi                  0\n",
       "smoking_status       0\n",
       "stroke               0\n",
       "dtype: int64"
      ]
     },
     "execution_count": 50,
     "metadata": {},
     "output_type": "execute_result"
    }
   ],
   "source": [
    "# Vérification de la non-présence de valeurs null\n",
    "df.toPandas().isnull().sum()"
   ]
  },
  {
   "cell_type": "markdown",
   "metadata": {
    "id": "xJcZA5_oUnI0"
   },
   "source": [
    "<a id=\"title-five\"></a>\n",
    "<h1 style='background:#C4F1E8; border:2; border-radius: 10px; color:black'><center>Construction des modèles</center></h1>"
   ]
  },
  {
   "cell_type": "code",
   "execution_count": 59,
   "metadata": {
    "application/vnd.databricks.v1+cell": {
     "inputWidgets": {},
     "nuid": "6d5a8618-b6de-4ac8-91d2-c2aee036f467",
     "showTitle": false,
     "title": ""
    }
   },
   "outputs": [],
   "source": [
    "categorical_features = ['gender', 'ever_married', 'Residence_type', 'work_type', 'smoking_status']\n",
    "numeric_features = ['age', 'hypertension', 'heart_disease', 'avg_glucose_level', 'bmi', 'stroke']\n",
    "\n",
    "categorical_features_idx = [f + '_idx' for f in categorical_features]\n",
    "string_indexer = StringIndexer(inputCols=var1, handleInvalid='skip', outputCols=categorical_features_idx)\n",
    "\n",
    "categorical_features_enc = ['work_type_enc', 'Residence_type_enc', 'smoking_status_enc']\n",
    "ont_hot_encoder = OneHotEncoder(dropLast=False, inputCols=t, outputCols=categorical_features_enc)\n",
    "\n",
    "columns = ['gender_idx', 'ever_married_idx', 'work_type_enc', 'Residence_type_enc', 'smoking_status_enc', 'bmi', 'avg_glucose_level', 'age', 'hypertension', 'heart_disease']\n",
    "vector_assembler = VectorAssembler(inputCols=columns, outputCol='features', handleInvalid=\"skip\")"
   ]
  },
  {
   "cell_type": "markdown",
   "metadata": {
    "id": "xJcZA5_oUnI0"
   },
   "source": [
    "<h3 style='background:#F1C4EF; border:1; border-radius:10px; color:black'><center>Decision Tree</center></h3>"
   ]
  },
  {
   "cell_type": "code",
   "execution_count": 60,
   "metadata": {
    "application/vnd.databricks.v1+cell": {
     "inputWidgets": {},
     "nuid": "6d5a8618-b6de-4ac8-91d2-c2aee036f467",
     "showTitle": false,
     "title": ""
    }
   },
   "outputs": [
    {
     "name": "stdout",
     "output_type": "stream",
     "text": [
      "+----------+------+--------------------+\n",
      "|prediction|stroke|            features|\n",
      "+----------+------+--------------------+\n",
      "|       0.0|     0|(17,[1,5,7,10,12,...|\n",
      "|       0.0|     0|(17,[1,5,7,9,12,1...|\n",
      "|       0.0|     0|(17,[1,2,7,9,12,1...|\n",
      "|       0.0|     0|(17,[1,5,7,10,12,...|\n",
      "|       0.0|     0|(17,[1,6,7,9,12,1...|\n",
      "|       0.0|     0|(17,[1,2,8,9,12,1...|\n",
      "|       0.0|     0|(17,[1,2,7,10,12,...|\n",
      "|       0.0|     0|(17,[1,2,7,9,12,1...|\n",
      "|       0.0|     0|(17,[1,3,8,9,12,1...|\n",
      "|       0.0|     0|(17,[1,2,8,9,12,1...|\n",
      "|       0.0|     0|(17,[1,2,8,9,12,1...|\n",
      "|       0.0|     0|(17,[1,2,7,9,12,1...|\n",
      "|       0.0|     0|(17,[1,5,7,9,12,1...|\n",
      "|       0.0|     0|(17,[1,6,8,9,12,1...|\n",
      "|       0.0|     0|(17,[1,6,7,9,12,1...|\n",
      "|       0.0|     0|(17,[1,2,8,9,12,1...|\n",
      "|       0.0|     0|(17,[1,2,7,9,12,1...|\n",
      "|       0.0|     0|(17,[1,2,7,9,12,1...|\n",
      "|       0.0|     0|(17,[1,2,7,9,12,1...|\n",
      "|       0.0|     0|(17,[1,2,8,9,12,1...|\n",
      "+----------+------+--------------------+\n",
      "only showing top 20 rows\n",
      "\n",
      "Précision de l'arbre de décision : = 0.945729\n",
      "Erreur de l'arbre de décision : 0.0542714 \n"
     ]
    }
   ],
   "source": [
    "train, test = df.randomSplit([0.7, 0.3])\n",
    "\n",
    "from pyspark.ml.classification import DecisionTreeClassifier\n",
    "tree_classifier = DecisionTreeClassifier(labelCol='stroke', featuresCol='features')\n",
    "\n",
    "model = Pipeline(stages= [string_indexer]+[ont_hot_encoder]+[vector_assembler]+[tree_classifier]).fit(train)\n",
    "pred_tree = model.transform(test)\n",
    "pred_tree.select('prediction', 'stroke', 'features').show()\n",
    "\n",
    "from pyspark.ml.evaluation import BinaryClassificationEvaluator\n",
    "evaluator = MulticlassClassificationEvaluator(labelCol='stroke', predictionCol='prediction', metricName='accuracy')\n",
    "accuracy_tree = evaluator.evaluate(pred_tree)\n",
    "\n",
    "print(\"Précision de l'arbre de décision : = %g\"% (accuracy_tree))\n",
    "print(\"Erreur de l'arbre de décision : %g \" % (1.0 - accuracy_tree))"
   ]
  },
  {
   "cell_type": "markdown",
   "metadata": {
    "id": "xJcZA5_oUnI0"
   },
   "source": [
    "<h3 style='background:#F1C4EF; border:1; border-radius:10px; color:black'><center>Random Forest</center></h3>"
   ]
  },
  {
   "cell_type": "code",
   "execution_count": 61,
   "metadata": {
    "application/vnd.databricks.v1+cell": {
     "inputWidgets": {},
     "nuid": "6d5a8618-b6de-4ac8-91d2-c2aee036f467",
     "showTitle": false,
     "title": ""
    }
   },
   "outputs": [
    {
     "name": "stdout",
     "output_type": "stream",
     "text": [
      "+----------+------+--------------------+\n",
      "|prediction|stroke|            features|\n",
      "+----------+------+--------------------+\n",
      "|       0.0|     0|(17,[1,5,7,10,12,...|\n",
      "|       0.0|     0|(17,[1,5,7,9,12,1...|\n",
      "|       0.0|     0|(17,[1,2,7,9,12,1...|\n",
      "|       0.0|     0|(17,[1,5,7,10,12,...|\n",
      "|       0.0|     0|(17,[1,6,7,9,12,1...|\n",
      "|       0.0|     0|(17,[1,2,8,9,12,1...|\n",
      "|       0.0|     0|(17,[1,2,7,10,12,...|\n",
      "|       0.0|     0|(17,[1,2,7,9,12,1...|\n",
      "|       0.0|     0|(17,[1,3,8,9,12,1...|\n",
      "|       0.0|     0|(17,[1,2,8,9,12,1...|\n",
      "|       0.0|     0|(17,[1,2,8,9,12,1...|\n",
      "|       0.0|     0|(17,[1,2,7,9,12,1...|\n",
      "|       0.0|     0|(17,[1,5,7,9,12,1...|\n",
      "|       0.0|     0|(17,[1,6,8,9,12,1...|\n",
      "|       0.0|     0|(17,[1,6,7,9,12,1...|\n",
      "|       0.0|     0|(17,[1,2,8,9,12,1...|\n",
      "|       0.0|     0|(17,[1,2,7,9,12,1...|\n",
      "|       0.0|     0|(17,[1,2,7,9,12,1...|\n",
      "|       0.0|     0|(17,[1,2,7,9,12,1...|\n",
      "|       0.0|     0|(17,[1,2,8,9,12,1...|\n",
      "+----------+------+--------------------+\n",
      "only showing top 20 rows\n",
      "\n",
      "Précision du random forest : = 0.734562\n",
      "Erreur du random forest : 0.265438 \n"
     ]
    }
   ],
   "source": [
    "from pyspark.ml.classification import RandomForestClassifier\n",
    "random_forest = RandomForestClassifier(featuresCol = 'features', labelCol = 'stroke')\n",
    "\n",
    "random_forest_model = Pipeline(stages=[stage_1]+[stage_2]+[stage_3]+[random_forest]).fit(train)\n",
    "predictions_random_forest = random_forest_model.transform(test)\n",
    "predictions_random_forest.select('prediction', 'stroke', 'features').show()\n",
    "\n",
    "evaluator = BinaryClassificationEvaluator(labelCol='stroke')\n",
    "accuracy_rf = evaluator.evaluate(predictions_random_forest)\n",
    "\n",
    "print(\"Précision du random forest : = %g\"% (accuracy_rf))\n",
    "print(\"Erreur du random forest : %g \" % (1.0 - accuracy_rf))"
   ]
  },
  {
   "cell_type": "code",
   "execution_count": null,
   "metadata": {},
   "outputs": [],
   "source": []
  }
 ],
 "metadata": {
  "kernelspec": {
   "display_name": "Python 3 (ipykernel)",
   "language": "python",
   "name": "python3"
  },
  "language_info": {
   "codemirror_mode": {
    "name": "ipython",
    "version": 3
   },
   "file_extension": ".py",
   "mimetype": "text/x-python",
   "name": "python",
   "nbconvert_exporter": "python",
   "pygments_lexer": "ipython3",
   "version": "3.10.6"
  },
  "vscode": {
   "interpreter": {
    "hash": "372373746f32b63eeb334467d24f32b3d24451f66ed2c2de20060369be65d64c"
   }
  }
 },
 "nbformat": 4,
 "nbformat_minor": 4
}
