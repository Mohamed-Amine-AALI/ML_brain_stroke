{
 "cells": [
  {
   "cell_type": "markdown",
   "metadata": {},
   "source": [
    "<h1 style='background:#C4F1E8; border:2; border-radius: 10px; font-size:250%; font-weight: bold; color:black'><center>Prédictions d'AVC</center></h1> \n",
    " \n",
    "<img src = \"https://www.news-medical.net/image.axd?picture=2021%2F11%2Fshutterstock_1488035675-1.jpg\" width = 500 height = 400/>\n",
    "\n",
    "Pour la culture : \n",
    "L’accident vasculaire cérébral (AVC) est la conséquence de l’obstruction ou de la rupture d’un vaisseau transportant le sang dans le cerveau.\n",
    "\n",
    "Il se traduit par un déficit neurologique d’installation soudaine, qui peut concerner la motricité, la sensibilité, le langage, ou la vision, pour ne citer que les manifestations les plus fréquentes, selon le siège de la lésion cérébrale (Quand y penser?)\n",
    "\n",
    "Un autre terme utilisé est « attaque cérébrale ».\n",
    "En anglais, l’AVC est désigné par le terme « stroke »."
   ]
  },
  {
   "cell_type": "markdown",
   "metadata": {
    "id": "xJcZA5_oUnI0"
   },
   "source": [
    "<a id=\"title-five\"></a>\n",
    "<h1 style='background:#C4F1E8; border:2; border-radius: 10px; color:black'><center>Imports des librairies</center></h1>"
   ]
  },
  {
   "cell_type": "code",
   "execution_count": 504,
   "metadata": {
    "application/vnd.databricks.v1+cell": {
     "inputWidgets": {},
     "nuid": "b8490396-203b-4e19-9a18-dc81bf3c142b",
     "showTitle": false,
     "title": ""
    }
   },
   "outputs": [],
   "source": [
    "# Session Spark\n",
    "from pyspark import SparkContext\n",
    "from pyspark.sql import SparkSession\n",
    "\n",
    "import pyspark.pandas as pd\n",
    "# from pyspark.sql import functions as F\n",
    "# # mean, col, split, col, regexp_extract, when, lit\n",
    "\n",
    "from pyspark.ml import Pipeline\n",
    "from pyspark.ml.feature import StringIndexer\n",
    "from pyspark.ml.feature import VectorAssembler\n",
    "from pyspark.ml.feature import OneHotEncoder\n",
    "from pyspark.ml.evaluation import MulticlassClassificationEvaluator\n",
    "\n",
    "from pyspark.sql.types import DoubleType\n",
    "\n",
    "from matplotlib import pyplot\n",
    "# import warnings\n",
    "# warnings.filterwarnings('ignore')   "
   ]
  },
  {
   "cell_type": "markdown",
   "metadata": {},
   "source": [
    "**Creation de la Session Spark**"
   ]
  },
  {
   "cell_type": "code",
   "execution_count": 505,
   "metadata": {
    "id": "4fJ_-j_jUnIz"
   },
   "outputs": [],
   "source": [
    "spark = SparkSession.builder.getOrCreate()"
   ]
  },
  {
   "cell_type": "markdown",
   "metadata": {
    "id": "xJcZA5_oUnI0"
   },
   "source": [
    "<a id=\"title-five\"></a>\n",
    "<h1 style='background:#C4F1E8; border:2; border-radius: 10px; color:black'><center>Lecture et analyse des données</center></h1>\n",
    "\n",
    "L'analyse et la lecture de notre jeu de données se fera de manière séquentielle :\n",
    "\n",
    "- Analyse des features et de leur type\n",
    "- Détection de données erronées (valeurs null, inutiles, ...)\n",
    "- L'ampleur des données\n",
    "- Analyse des facteurs amenant à un AVC"
   ]
  },
  {
   "cell_type": "code",
   "execution_count": 506,
   "metadata": {
    "application/vnd.databricks.v1+cell": {
     "inputWidgets": {},
     "nuid": "375ab44d-6f3d-45ff-8dea-70fb552be458",
     "showTitle": false,
     "title": ""
    }
   },
   "outputs": [
    {
     "name": "stdout",
     "output_type": "stream",
     "text": [
      "root\n",
      " |-- id: integer (nullable = true)\n",
      " |-- gender: string (nullable = true)\n",
      " |-- age: double (nullable = true)\n",
      " |-- hypertension: integer (nullable = true)\n",
      " |-- heart_disease: integer (nullable = true)\n",
      " |-- ever_married: string (nullable = true)\n",
      " |-- work_type: string (nullable = true)\n",
      " |-- Residence_type: string (nullable = true)\n",
      " |-- avg_glucose_level: double (nullable = true)\n",
      " |-- bmi: string (nullable = true)\n",
      " |-- smoking_status: string (nullable = true)\n",
      " |-- stroke: integer (nullable = true)\n",
      "\n"
     ]
    }
   ],
   "source": [
    "# Lecture du jeu de données\n",
    "df = spark.read.csv('./brain_stroke.csv', header = True, inferSchema = True).cache()\n",
    "\n",
    "# Affichage de 5 entités\n",
    "df.limit(10).toPandas()\n",
    "\n",
    "# Affichage des features\n",
    "df.printSchema()"
   ]
  },
  {
   "cell_type": "markdown",
   "metadata": {
    "id": "xJcZA5_oUnI0"
   },
   "source": [
    "**Analyse des features et de leur type**\n",
    "\n",
    "- gender: \"Male\", \"Female\" or \"Other\"\n",
    "- age: age of the patient\n",
    "- hypertension: 0 if the patient doesn't have hypertension, 1 if the patient has hypertension\n",
    "- heart disease: 0 if the patient doesn't have any heart diseases, 1 if the patient has a heart disease \n",
    "- ever_married: \"No\" or \"Yes\"\n",
    "- worktype: \"children\", \"Govtjov\", \"Neverworked\", \"Private\" or \"Self-employed\"\n",
    "- Residencetype: \"Rural\" or \"Urban\"\n",
    "- avgglucoselevel: average glucose level in blood\n",
    "- bmi: body mass index\n",
    "- smoking_status: \"formerly smoked\", \"never smoked\", \"smokes\" or \"Unknown\"*\n",
    "- stroke: 1 if the patient had a stroke or 0 if not\n",
    "\n",
    "Après affichage du schéma de notre dataframe, nous nous rendons compte que les colonnes sont de différents type.\n",
    "\n",
    "Dans le cadre de l'éxécution de notre future pipeline de Machine Learning, il sera vitale de transformer les valeurs non-numérique en valeur numérique.\n",
    "\n",
    "**Détection de données erronées / inutiles**"
   ]
  },
  {
   "cell_type": "code",
   "execution_count": 507,
   "metadata": {
    "application/vnd.databricks.v1+cell": {
     "inputWidgets": {},
     "nuid": "009d5547-a522-4edf-8966-06f76b80e4f3",
     "showTitle": false,
     "title": ""
    }
   },
   "outputs": [
    {
     "name": "stdout",
     "output_type": "stream",
     "text": [
      "+------+\n",
      "|gender|\n",
      "+------+\n",
      "|Female|\n",
      "| Other|\n",
      "|  Male|\n",
      "+------+\n",
      "\n",
      "Nombre d'entités avec le gender 'Other' : 1\n"
     ]
    }
   ],
   "source": [
    "df.select(\"gender\").distinct().show()\n",
    "print(\"Nombre d'entités avec le gender 'Other' : \" + str(df.filter(df[\"gender\"] == 'Other').count()))"
   ]
  },
  {
   "cell_type": "markdown",
   "metadata": {
    "id": "xJcZA5_oUnI0"
   },
   "source": [
    "On remarque qu'il existe qu'une seule occurence du gender \"other\", on retirera donc durant la phase de preprocessing cette occurence afin que les données soient plus équilibrés."
   ]
  },
  {
   "cell_type": "markdown",
   "metadata": {
    "id": "xJcZA5_oUnI0"
   },
   "source": [
    "On remarque également qu'il existe une valeur \"unknown\" pour notre feature \"smoking_status\"."
   ]
  },
  {
   "cell_type": "code",
   "execution_count": 508,
   "metadata": {
    "application/vnd.databricks.v1+cell": {
     "inputWidgets": {},
     "nuid": "009d5547-a522-4edf-8966-06f76b80e4f3",
     "showTitle": false,
     "title": ""
    }
   },
   "outputs": [
    {
     "data": {
      "text/html": [
       "<div>\n",
       "<style scoped>\n",
       "    .dataframe tbody tr th:only-of-type {\n",
       "        vertical-align: middle;\n",
       "    }\n",
       "\n",
       "    .dataframe tbody tr th {\n",
       "        vertical-align: top;\n",
       "    }\n",
       "\n",
       "    .dataframe thead th {\n",
       "        text-align: right;\n",
       "    }\n",
       "</style>\n",
       "<table border=\"1\" class=\"dataframe\">\n",
       "  <thead>\n",
       "    <tr style=\"text-align: right;\">\n",
       "      <th></th>\n",
       "      <th>smoking_status</th>\n",
       "    </tr>\n",
       "  </thead>\n",
       "  <tbody>\n",
       "    <tr>\n",
       "      <th>0</th>\n",
       "      <td>smokes</td>\n",
       "    </tr>\n",
       "    <tr>\n",
       "      <th>1</th>\n",
       "      <td>Unknown</td>\n",
       "    </tr>\n",
       "    <tr>\n",
       "      <th>2</th>\n",
       "      <td>never smoked</td>\n",
       "    </tr>\n",
       "    <tr>\n",
       "      <th>3</th>\n",
       "      <td>formerly smoked</td>\n",
       "    </tr>\n",
       "  </tbody>\n",
       "</table>\n",
       "</div>"
      ],
      "text/plain": [
       "    smoking_status\n",
       "0           smokes\n",
       "1          Unknown\n",
       "2     never smoked\n",
       "3  formerly smoked"
      ]
     },
     "execution_count": 508,
     "metadata": {},
     "output_type": "execute_result"
    }
   ],
   "source": [
    "df.select(\"smoking_status\").distinct().toPandas()"
   ]
  },
  {
   "cell_type": "markdown",
   "metadata": {
    "id": "xJcZA5_oUnI0"
   },
   "source": [
    "Afin d'équilibrer notre jeu de donnée, il est impératif qu'une quantité exacte d\"informations soit disponible pour chaque entité de notre data set, cela dans le but d'augmenter la précision de nos prédictions à venir.\n",
    "\n",
    "On retirera donc durant la phase de preprocessing les entités avec une valeur de \"smoking_status\" à \"unknown\".\n",
    "\n",
    "On remarque également que la feature \"bmi\" est de type string qui devraient en fait être des valeurs numériques, il va donc falloir les convertir en double.\n",
    "Elle contient également des valeurs érronées (N/A) qui va falloir supprimer."
   ]
  },
  {
   "cell_type": "code",
   "execution_count": 509,
   "metadata": {
    "application/vnd.databricks.v1+cell": {
     "inputWidgets": {},
     "nuid": "009d5547-a522-4edf-8966-06f76b80e4f3",
     "showTitle": false,
     "title": ""
    }
   },
   "outputs": [
    {
     "name": "stdout",
     "output_type": "stream",
     "text": [
      "root\n",
      " |-- bmi: string (nullable = true)\n",
      "\n",
      "+----+\n",
      "| bmi|\n",
      "+----+\n",
      "|36.6|\n",
      "| N/A|\n",
      "+----+\n",
      "only showing top 2 rows\n",
      "\n"
     ]
    }
   ],
   "source": [
    "# Type de \"bmi\"\n",
    "df.select(\"bmi\").printSchema()\n",
    "\n",
    "# Valeur erronné (N/A) :\n",
    "df.select(\"bmi\").show(2)"
   ]
  },
  {
   "cell_type": "markdown",
   "metadata": {
    "id": "xJcZA5_oUnI0"
   },
   "source": [
    "La colonne \"id\" de notre dataframe sert uniquement d'attribut identifiante, elle n'est en rien un facteur de prédiction, on l'enlèvera donc durant la phase de clean data."
   ]
  },
  {
   "cell_type": "code",
   "execution_count": 510,
   "metadata": {
    "application/vnd.databricks.v1+cell": {
     "inputWidgets": {},
     "nuid": "009d5547-a522-4edf-8966-06f76b80e4f3",
     "showTitle": false,
     "title": ""
    }
   },
   "outputs": [
    {
     "name": "stdout",
     "output_type": "stream",
     "text": [
      "root\n",
      " |-- id: integer (nullable = true)\n",
      "\n"
     ]
    }
   ],
   "source": [
    "# Type de \"bmi\"\n",
    "df.select(\"id\").printSchema()"
   ]
  },
  {
   "cell_type": "markdown",
   "metadata": {
    "id": "xJcZA5_oUnI0",
    "tags": []
   },
   "source": [
    "<a id=\"title-five\"></a>\n",
    "<h1 style='background:#C4F1E8; border:2; border-radius: 10px; color:black'><center>Visualisation des données</center></h1>\n",
    "\n",
    "<h3 style='background:#F1C4EF; border:1; border-radius:10px; color:black'><center>Répartion des genres parmis les personnes ayant eu un AVC</center></h3>"
   ]
  },
  {
   "cell_type": "code",
   "execution_count": 511,
   "metadata": {
    "application/vnd.databricks.v1+cell": {
     "inputWidgets": {},
     "nuid": "009d5547-a522-4edf-8966-06f76b80e4f3",
     "showTitle": false,
     "title": ""
    }
   },
   "outputs": [
    {
     "data": {
      "text/plain": [
       "array([<AxesSubplot: ylabel='count'>], dtype=object)"
      ]
     },
     "execution_count": 511,
     "metadata": {},
     "output_type": "execute_result"
    },
    {
     "data": {
      "image/png": "[encoded data removed]",
      "text/plain": [
       "<Figure size 640x480 with 1 Axes>"
      ]
     },
     "metadata": {},
     "output_type": "display_data"
    }
   ],
   "source": [
    "colors = ['lightpink', 'lightskyblue']\n",
    "\n",
    "pandas_df = df.filter(df['stroke'] == 1).groupBy(\"stroke\", \"gender\").count().orderBy(\"stroke\").toPandas()\n",
    "pandas_df.set_index(\"gender\").plot.pie(y=\"count\", colors=colors, autopct='%1.0f%%', subplots=True)"
   ]
  },
  {
   "cell_type": "markdown",
   "metadata": {
    "id": "xJcZA5_oUnI0"
   },
   "source": [
    "<h3 style='background:#F1C4EF; border:1; border-radius:10px; color:black'><center>Répartion des types d'emplois parmis les personnes ayant eu un AVC</center></h3>"
   ]
  },
  {
   "cell_type": "code",
   "execution_count": 512,
   "metadata": {
    "application/vnd.databricks.v1+cell": {
     "inputWidgets": {},
     "nuid": "009d5547-a522-4edf-8966-06f76b80e4f3",
     "showTitle": false,
     "title": ""
    }
   },
   "outputs": [
    {
     "data": {
      "text/plain": [
       "array([<AxesSubplot: ylabel='count'>], dtype=object)"
      ]
     },
     "execution_count": 512,
     "metadata": {},
     "output_type": "execute_result"
    },
    {
     "data": {
      "image/png": "[encoded data removed]",
      "text/plain": [
       "<Figure size 640x480 with 1 Axes>"
      ]
     },
     "metadata": {},
     "output_type": "display_data"
    }
   ],
   "source": [
    "pandas_df = df.filter(df['stroke'] == 1).groupBy(\"stroke\", \"work_type\").count().orderBy(\"stroke\").toPandas()\n",
    "pandas_df.set_index(\"work_type\").plot.pie(y=\"count\", subplots=True, autopct='%1.0f%%')"
   ]
  },
  {
   "cell_type": "markdown",
   "metadata": {
    "id": "xJcZA5_oUnI0"
   },
   "source": [
    "Le stress chronique affecte le système cardiovasculaire, endommageant ainsi les artères au cas où on le laisse passer sans traitement. Le dommage vasculaire peut mener éventuellement à un AVC, qui constitue une urgence médicale provenant d'une artère dans le cerveau qui soit se rompe, soit se bouche."
   ]
  },
  {
   "cell_type": "markdown",
   "metadata": {
    "id": "xJcZA5_oUnI0"
   },
   "source": [
    "<h3 style='background:#F1C4EF; border:1; border-radius:10px; color:black'><center>Personnes mariées parmis les personnes ayant eu un AVC</center></h3>"
   ]
  },
  {
   "cell_type": "code",
   "execution_count": 513,
   "metadata": {
    "application/vnd.databricks.v1+cell": {
     "inputWidgets": {},
     "nuid": "009d5547-a522-4edf-8966-06f76b80e4f3",
     "showTitle": false,
     "title": ""
    }
   },
   "outputs": [
    {
     "data": {
      "text/plain": [
       "array([<AxesSubplot: ylabel='count'>], dtype=object)"
      ]
     },
     "execution_count": 513,
     "metadata": {},
     "output_type": "execute_result"
    },
    {
     "data": {
      "image/png": "[encoded data removed]",
      "text/plain": [
       "<Figure size 640x480 with 1 Axes>"
      ]
     },
     "metadata": {},
     "output_type": "display_data"
    }
   ],
   "source": [
    "pandas_df = df.filter(df['stroke'] == 1).groupBy(\"stroke\", \"ever_married\").count().orderBy(\"stroke\").toPandas()\n",
    "pandas_df.set_index(\"ever_married\").plot.pie(y=\"count\", subplots=True, autopct='%1.0f%%')"
   ]
  },
  {
   "cell_type": "markdown",
   "metadata": {},
   "source": [
    "![ChessUrl](https://media1.giphy.com/media/jIIduCs5nkq2i2emoS/giphy.gif)"
   ]
  },
  {
   "cell_type": "markdown",
   "metadata": {
    "id": "xJcZA5_oUnI0"
   },
   "source": [
    "<a id=\"title-five\"></a>\n",
    "<h1 style='background:#C4F1E8; border:2; border-radius: 10px; color:black'><center>DATA PREPROCESSING</center></h1>\n",
    "\n",
    "<h3 style='background:#F1C4EF; border:1; border-radius:10px; color:black'><center>Clean data</center></h3>"
   ]
  },
  {
   "cell_type": "markdown",
   "metadata": {
    "id": "xJcZA5_oUnI0"
   },
   "source": [
    "Comme mentionée plus haut durant la phase d'analyse des données, il est primordiale de supprimer les données erronnés/inutiles.\n",
    "\n",
    "Egalement, il sera impératif de transformer nos données en données numériques.\n",
    "\n",
    "Pour cela, il nous sera utile d'utiliser : \n",
    "\n",
    "- StringIndexer : il nous servira à convertir les valeurs string binaire (true/false, yes/no, ...) en valeur numérique (0 et 1). Par exemple, la feature \"ever_married\", les valeurs par défauts sont \"yes\" et \"no\", elles seront transformées en 0 et 1.\n",
    "- OneHotEncoder : il nous servira à construire des matrices binaires pour nos features possédant plusieurs modalités possible. Par exemple, la feature \"work_type\" peut avoir plusieurs valeurs (Private, Self-employed, Private, Children)\n",
    "- Vecteur assembleur : il nous servira a obtenir pour chaque entité l'ensemble de leur feature stocké dans une colonne.\n",
    "\n",
    "Nous entamerons la transformation de notre dataframe en sous-étapes éxécuté dans une pipeline machine learning."
   ]
  },
  {
   "cell_type": "code",
   "execution_count": 514,
   "metadata": {
    "application/vnd.databricks.v1+cell": {
     "inputWidgets": {},
     "nuid": "6d5a8618-b6de-4ac8-91d2-c2aee036f467",
     "showTitle": false,
     "title": ""
    }
   },
   "outputs": [
    {
     "data": {
      "text/html": [
       "<div>\n",
       "<style scoped>\n",
       "    .dataframe tbody tr th:only-of-type {\n",
       "        vertical-align: middle;\n",
       "    }\n",
       "\n",
       "    .dataframe tbody tr th {\n",
       "        vertical-align: top;\n",
       "    }\n",
       "\n",
       "    .dataframe thead th {\n",
       "        text-align: right;\n",
       "    }\n",
       "</style>\n",
       "<table border=\"1\" class=\"dataframe\">\n",
       "  <thead>\n",
       "    <tr style=\"text-align: right;\">\n",
       "      <th></th>\n",
       "      <th>gender</th>\n",
       "    </tr>\n",
       "  </thead>\n",
       "  <tbody>\n",
       "    <tr>\n",
       "      <th>0</th>\n",
       "      <td>Female</td>\n",
       "    </tr>\n",
       "    <tr>\n",
       "      <th>1</th>\n",
       "      <td>Male</td>\n",
       "    </tr>\n",
       "  </tbody>\n",
       "</table>\n",
       "</div>"
      ],
      "text/plain": [
       "   gender\n",
       "0  Female\n",
       "1    Male"
      ]
     },
     "execution_count": 514,
     "metadata": {},
     "output_type": "execute_result"
    }
   ],
   "source": [
    "df = df.filter(df[\"gender\"] != \"Other\")\n",
    "\n",
    "# Affichage des valeurs possible de \"gender\" après suppression :\n",
    "df.select(\"gender\").distinct().toPandas()"
   ]
  },
  {
   "cell_type": "code",
   "execution_count": 515,
   "metadata": {
    "application/vnd.databricks.v1+cell": {
     "inputWidgets": {},
     "nuid": "6d5a8618-b6de-4ac8-91d2-c2aee036f467",
     "showTitle": false,
     "title": ""
    }
   },
   "outputs": [
    {
     "data": {
      "text/html": [
       "<div>\n",
       "<style scoped>\n",
       "    .dataframe tbody tr th:only-of-type {\n",
       "        vertical-align: middle;\n",
       "    }\n",
       "\n",
       "    .dataframe tbody tr th {\n",
       "        vertical-align: top;\n",
       "    }\n",
       "\n",
       "    .dataframe thead th {\n",
       "        text-align: right;\n",
       "    }\n",
       "</style>\n",
       "<table border=\"1\" class=\"dataframe\">\n",
       "  <thead>\n",
       "    <tr style=\"text-align: right;\">\n",
       "      <th></th>\n",
       "      <th>smoking_status</th>\n",
       "    </tr>\n",
       "  </thead>\n",
       "  <tbody>\n",
       "    <tr>\n",
       "      <th>0</th>\n",
       "      <td>smokes</td>\n",
       "    </tr>\n",
       "    <tr>\n",
       "      <th>1</th>\n",
       "      <td>never smoked</td>\n",
       "    </tr>\n",
       "    <tr>\n",
       "      <th>2</th>\n",
       "      <td>formerly smoked</td>\n",
       "    </tr>\n",
       "  </tbody>\n",
       "</table>\n",
       "</div>"
      ],
      "text/plain": [
       "    smoking_status\n",
       "0           smokes\n",
       "1     never smoked\n",
       "2  formerly smoked"
      ]
     },
     "execution_count": 515,
     "metadata": {},
     "output_type": "execute_result"
    }
   ],
   "source": [
    "df = df.filter(df[\"smoking_status\"] != \"Unknown\")\n",
    "\n",
    "# Affichage des valeurs possible de \"smoking_status\" après suppression :\n",
    "df.select(\"smoking_status\").distinct().toPandas()"
   ]
  },
  {
   "cell_type": "code",
   "execution_count": 516,
   "metadata": {
    "application/vnd.databricks.v1+cell": {
     "inputWidgets": {},
     "nuid": "6d5a8618-b6de-4ac8-91d2-c2aee036f467",
     "showTitle": false,
     "title": ""
    }
   },
   "outputs": [
    {
     "name": "stdout",
     "output_type": "stream",
     "text": [
      "root\n",
      " |-- bmi: double (nullable = true)\n",
      "\n"
     ]
    }
   ],
   "source": [
    "# Retire les \"not applicable\" bmi\n",
    "df = df.filter(df[\"bmi\"] != \"N/A\")\n",
    "\n",
    "# Convertir BMI en type double\n",
    "df = df.withColumn(\"bmi\", df.bmi.cast(DoubleType()))\n",
    "df.select(\"bmi\").printSchema()"
   ]
  },
  {
   "cell_type": "code",
   "execution_count": 517,
   "metadata": {
    "application/vnd.databricks.v1+cell": {
     "inputWidgets": {},
     "nuid": "6d5a8618-b6de-4ac8-91d2-c2aee036f467",
     "showTitle": false,
     "title": ""
    }
   },
   "outputs": [],
   "source": [
    "# On supprime la colonne \"id\"\n",
    "df = df.drop(\"id\")"
   ]
  },
  {
   "cell_type": "code",
   "execution_count": 518,
   "metadata": {
    "application/vnd.databricks.v1+cell": {
     "inputWidgets": {},
     "nuid": "6d5a8618-b6de-4ac8-91d2-c2aee036f467",
     "showTitle": false,
     "title": ""
    }
   },
   "outputs": [
    {
     "data": {
      "text/plain": [
       "gender               0\n",
       "age                  0\n",
       "hypertension         0\n",
       "heart_disease        0\n",
       "ever_married         0\n",
       "work_type            0\n",
       "Residence_type       0\n",
       "avg_glucose_level    0\n",
       "bmi                  0\n",
       "smoking_status       0\n",
       "stroke               0\n",
       "dtype: int64"
      ]
     },
     "execution_count": 518,
     "metadata": {},
     "output_type": "execute_result"
    }
   ],
   "source": [
    "# Vérification de la non-présence de valeurs null\n",
    "df.toPandas().isnull().sum()"
   ]
  },
  {
   "cell_type": "code",
   "execution_count": 519,
   "metadata": {
    "application/vnd.databricks.v1+cell": {
     "inputWidgets": {},
     "nuid": "6d5a8618-b6de-4ac8-91d2-c2aee036f467",
     "showTitle": false,
     "title": ""
    }
   },
   "outputs": [],
   "source": [
    "var1 = ['gender', 'ever_married', 'Residence_type', 'work_type', 'smoking_status']\n",
    "numeric_features = ['age', 'hypertension', 'heart_disease', 'avg_glucose_level', 'bmi', 'stroke']\n",
    "\n",
    "varIdx = [col+'_idx' for col in var1]\n",
    "stage_1 = StringIndexer(inputCols=var1, handleInvalid='skip', outputCols=varIdx)\n",
    "#df = string_indexer_stage.fit(df).transform(df)\n",
    "#df.toPandas()\n",
    "\n",
    "varEnc = [col+'_enc' for col in varIdx]\n",
    "t = ['work_type_idx', 'Residence_type_idx', 'smoking_status_idx']\n",
    "stage_2 = OneHotEncoder(dropLast=False, inputCols=t, outputCols=['work_type_enc', 'Residence_type_enc', 'smoking_status_enc'])\n",
    "#df = stage_2.fit(df).transform(df)\n",
    "#df.toPandas()\n",
    "\n",
    "columns = ['gender_idx', 'ever_married_idx', 'work_type_enc', 'Residence_type_enc', 'smoking_status_enc', 'bmi', 'avg_glucose_level', 'age', 'hypertension', 'heart_disease']\n",
    "stage_3 = VectorAssembler(inputCols=columns, outputCol='features', handleInvalid=\"skip\")\n",
    "#assembler.transform(df).select('features').toPandas()"
   ]
  },
  {
   "cell_type": "code",
   "execution_count": 432,
   "metadata": {
    "application/vnd.databricks.v1+cell": {
     "inputWidgets": {},
     "nuid": "6d5a8618-b6de-4ac8-91d2-c2aee036f467",
     "showTitle": false,
     "title": ""
    }
   },
   "outputs": [
    {
     "name": "stdout",
     "output_type": "stream",
     "text": [
      "+----------+------+--------------------+\n",
      "|prediction|stroke|            features|\n",
      "+----------+------+--------------------+\n",
      "|       0.0|     0|(18,[0,2,7,9,13,1...|\n",
      "|       0.0|     0|(18,[2,8,10,13,14...|\n",
      "|       0.0|     0|(18,[0,2,8,11,13,...|\n",
      "|       0.0|     0|(18,[0,1,4,7,10,1...|\n",
      "|       0.0|     0|(18,[0,2,7,9,13,1...|\n",
      "|       0.0|     0|(18,[0,2,8,9,13,1...|\n",
      "|       0.0|     0|(18,[2,8,9,13,14,...|\n",
      "|       0.0|     0|(18,[2,7,12,13,14...|\n",
      "|       0.0|     0|(18,[0,3,8,9,13,1...|\n",
      "|       0.0|     0|(18,[2,8,11,13,14...|\n",
      "|       0.0|     0|(18,[0,2,8,9,13,1...|\n",
      "|       0.0|     0|(18,[2,7,11,13,14...|\n",
      "|       0.0|     0|(18,[0,5,8,12,13,...|\n",
      "|       0.0|     0|(18,[3,7,11,13,14...|\n",
      "|       0.0|     0|(18,[0,1,4,7,10,1...|\n",
      "|       0.0|     0|(18,[3,7,11,13,14...|\n",
      "|       0.0|     0|(18,[1,2,7,11,13,...|\n",
      "|       0.0|     0|(18,[1,2,8,9,13,1...|\n",
      "|       0.0|     0|(18,[2,7,12,13,14...|\n",
      "|       0.0|     0|(18,[5,7,12,13,14...|\n",
      "+----------+------+--------------------+\n",
      "only showing top 20 rows\n",
      "\n",
      "Accuracy of DecisionTree is = 0.94962\n",
      "Error of DecisionTree = 0.0503796 \n"
     ]
    }
   ],
   "source": [
    "#X = df.drop(['stroke'])\n",
    "#y = df['stroke']\n",
    "\n",
    "train, test = df.randomSplit([0.7, 0.3], seed = 49)\n",
    "\n",
    "from pyspark.ml.classification import DecisionTreeClassifier\n",
    "tree = DecisionTreeClassifier(labelCol='stroke', featuresCol='features')\n",
    "\n",
    "model = Pipeline(stages= [stage_1]+[stage_2]+[stage_3]+[tree]).fit(train)\n",
    "pred_tree = model.transform(test)\n",
    "pred_tree.select('prediction', 'stroke', 'features').show()\n",
    "\n",
    "from pyspark.ml.evaluation import BinaryClassificationEvaluator\n",
    "evaluator = MulticlassClassificationEvaluator(labelCol='stroke', predictionCol='prediction', metricName='accuracy')\n",
    "accuracy_tree = evaluator.evaluate(pred_tree)\n",
    "\n",
    "print(\"Accuracy of DecisionTree is = %g\"% (accuracy_tree))\n",
    "print(\"Error of DecisionTree = %g \" % (1.0 - accuracy_tree))"
   ]
  },
  {
   "cell_type": "markdown",
   "metadata": {},
   "source": [
    "# [StringIndexer](https://medium.com/@nutanbhogendrasharma/role-of-stringindexer-and-pipelines-in-pyspark-ml-feature-b79085bb8a6c)"
   ]
  },
  {
   "cell_type": "code",
   "execution_count": 109,
   "metadata": {},
   "outputs": [],
   "source": [
    "# The index of string values multiple columns (old code)\n",
    "# indexers = [\n",
    "#     StringIndexer(inputCol=c, outputCol=\"{0}_indexed\".format(c))\n",
    "#     for c in feature_cat\n",
    "# ]\n",
    "\n",
    "# sdf = spark.read.csv(portugaise_bank, header=True, inferSchema=True).cache()\n",
    "indexer_feature = StringIndexer(inputCols=feature_cat, handleInvalid='skip', outputCols=feature_cat_indexed)\n",
    "indexer_label = StringIndexer(inputCol=labelCol, handleInvalid='skip', outputCol=labelCol+'_indexed')\n",
    "# sdf = indexer_feature.fit(sdf).transform(sdf)\n",
    "# sdf.show(n=1, truncate=False, vertical=True)"
   ]
  },
  {
   "cell_type": "markdown",
   "metadata": {},
   "source": [
    "# [OneHotEncoder](https://medium.com/@nutanbhogendrasharma/role-of-onehotencoder-and-pipelines-in-pyspark-ml-feature-part-2-3275767e74f0)"
   ]
  },
  {
   "cell_type": "code",
   "execution_count": 74,
   "metadata": {},
   "outputs": [
    {
     "name": "stdout",
     "output_type": "stream",
     "text": [
      "-RECORD 0-----------------------------------\n",
      " job_indexed               | 1.0            \n",
      " marital_indexed           | 0.0            \n",
      " education_indexed         | 1.0            \n",
      " default_indexed           | 0.0            \n",
      " housing_indexed           | 0.0            \n",
      " loan_indexed              | 0.0            \n",
      " contact_indexed           | 1.0            \n",
      " poutcome_indexed          | 0.0            \n",
      " job_indexed_encoded       | (12,[1],[1.0]) \n",
      " marital_indexed_encoded   | (3,[0],[1.0])  \n",
      " education_indexed_encoded | (4,[1],[1.0])  \n",
      " default_indexed_encoded   | (2,[0],[1.0])  \n",
      " housing_indexed_encoded   | (2,[0],[1.0])  \n",
      " loan_indexed_encoded      | (2,[0],[1.0])  \n",
      " contact_indexed_encoded   | (3,[1],[1.0])  \n",
      " poutcome_indexed_encoded  | (4,[0],[1.0])  \n",
      "-RECORD 1-----------------------------------\n",
      " job_indexed               | 2.0            \n",
      " marital_indexed           | 1.0            \n",
      " education_indexed         | 0.0            \n",
      " default_indexed           | 0.0            \n",
      " housing_indexed           | 0.0            \n",
      " loan_indexed              | 0.0            \n",
      " contact_indexed           | 1.0            \n",
      " poutcome_indexed          | 0.0            \n",
      " job_indexed_encoded       | (12,[2],[1.0]) \n",
      " marital_indexed_encoded   | (3,[1],[1.0])  \n",
      " education_indexed_encoded | (4,[0],[1.0])  \n",
      " default_indexed_encoded   | (2,[0],[1.0])  \n",
      " housing_indexed_encoded   | (2,[0],[1.0])  \n",
      " loan_indexed_encoded      | (2,[0],[1.0])  \n",
      " contact_indexed_encoded   | (3,[1],[1.0])  \n",
      " poutcome_indexed_encoded  | (4,[0],[1.0])  \n",
      "only showing top 2 rows\n",
      "\n"
     ]
    }
   ],
   "source": [
    "# https://stackoverflow.com/questions/35804755/apply-onehotencoder-for-several-categorical-columns-in-sparkmlib\n",
    "\n",
    "# The encode of indexed values multiple columns\n",
    "# encoders = [OneHotEncoder(dropLast=False, inputCol=indexer.getOutputCol(), outputCol=\"{0}_encoded\".format(indexer.getOutputCol())) for indexer in indexers ]\n",
    "\n",
    "encoders = OneHotEncoder(dropLast=False, inputCols=feature_cat_indexed, outputCols=feature_cat_encoded)  # handleInvalid='skip',  \n",
    "# sdf = encoders.fit(sdf).transform(sdf)\n",
    "sdf.select(feature_cat_indexed+feature_cat_encoded).show(n=2, truncate=False, vertical=True)\n"
   ]
  },
  {
   "cell_type": "markdown",
   "metadata": {},
   "source": [
    "# VectorAssembler"
   ]
  },
  {
   "cell_type": "code",
   "execution_count": 96,
   "metadata": {},
   "outputs": [
    {
     "name": "stdout",
     "output_type": "stream",
     "text": [
      "22/07/17 13:46:40 WARN CacheManager: Asked to cache already cached data.\n"
     ]
    }
   ],
   "source": [
    "# Vectorizing encoded values\n",
    "# assembler = VectorAssembler(inputCols=[encoder.getOutputCol() for encoder in encoders],outputCol=\"rawFeatures\")\n",
    "\n",
    "sdf = spark.read.csv(portugaise_bank, header=True, inferSchema=True).cache()\n",
    "assembler = VectorAssembler(inputCols=feature_cat_encoded+feature_numeric, outputCol='features')\n",
    "\n",
    "# assembler.transform(sdf).select(feature_cat+feature_numeric+feature_cat_encoded+['features']).show(n=2, truncate=False, vertical=True)"
   ]
  },
  {
   "cell_type": "markdown",
   "metadata": {},
   "source": [
    "# Pipeline"
   ]
  },
  {
   "cell_type": "code",
   "execution_count": 110,
   "metadata": {},
   "outputs": [
    {
     "name": "stdout",
     "output_type": "stream",
     "text": [
      "22/07/17 14:05:47 WARN CacheManager: Asked to cache already cached data.\n",
      "-RECORD 0------------------------------------------------------------------------------------------------------------------------------\n",
      " age                       | 58                                                                                                        \n",
      " job                       | management                                                                                                \n",
      " marital                   | married                                                                                                   \n",
      " education                 | tertiary                                                                                                  \n",
      " default                   | no                                                                                                        \n",
      " balance                   | 2143                                                                                                      \n",
      " housing                   | yes                                                                                                       \n",
      " loan                      | no                                                                                                        \n",
      " contact                   | unknown                                                                                                   \n",
      " day                       | 5                                                                                                         \n",
      " month                     | may                                                                                                       \n",
      " duration                  | 261                                                                                                       \n",
      " campaign                  | 1                                                                                                         \n",
      " pdays                     | -1                                                                                                        \n",
      " previous                  | 0                                                                                                         \n",
      " poutcome                  | unknown                                                                                                   \n",
      " Target                    | no                                                                                                        \n",
      " job_indexed               | 1.0                                                                                                       \n",
      " marital_indexed           | 0.0                                                                                                       \n",
      " education_indexed         | 1.0                                                                                                       \n",
      " default_indexed           | 0.0                                                                                                       \n",
      " housing_indexed           | 0.0                                                                                                       \n",
      " loan_indexed              | 0.0                                                                                                       \n",
      " contact_indexed           | 1.0                                                                                                       \n",
      " poutcome_indexed          | 0.0                                                                                                       \n",
      " Target_indexed            | 0.0                                                                                                       \n",
      " job_indexed_encoded       | (12,[1],[1.0])                                                                                            \n",
      " marital_indexed_encoded   | (3,[0],[1.0])                                                                                             \n",
      " education_indexed_encoded | (4,[1],[1.0])                                                                                             \n",
      " default_indexed_encoded   | (2,[0],[1.0])                                                                                             \n",
      " housing_indexed_encoded   | (2,[0],[1.0])                                                                                             \n",
      " loan_indexed_encoded      | (2,[0],[1.0])                                                                                             \n",
      " contact_indexed_encoded   | (3,[1],[1.0])                                                                                             \n",
      " poutcome_indexed_encoded  | (4,[0],[1.0])                                                                                             \n",
      " features                  | (38,[1,12,16,19,21,23,26,28,32,33,34,35,36],[1.0,1.0,1.0,1.0,1.0,1.0,1.0,1.0,58.0,2143.0,261.0,1.0,-1.0]) \n",
      "only showing top 1 row\n",
      "\n"
     ]
    }
   ],
   "source": [
    "sdf = spark.read.csv(portugaise_bank, header=True, inferSchema=True).cache()\n",
    "\n",
    "Pipeline(stages= [indexer_feature]+[indexer_label]+[encoders]+[assembler]).fit(sdf).transform(sdf).show(n=1, truncate=False, vertical=True)"
   ]
  },
  {
   "cell_type": "code",
   "execution_count": 84,
   "metadata": {
    "application/vnd.databricks.v1+cell": {
     "inputWidgets": {},
     "nuid": "d0c342a2-bc99-4fe4-97da-0e624bfb5586",
     "showTitle": false,
     "title": ""
    }
   },
   "outputs": [
    {
     "name": "stdout",
     "output_type": "stream",
     "text": [
      "root\n",
      " |-- age: integer (nullable = true)\n",
      " |-- job: string (nullable = true)\n",
      " |-- marital: string (nullable = true)\n",
      " |-- education: string (nullable = true)\n",
      " |-- default: string (nullable = true)\n",
      " |-- balance: integer (nullable = true)\n",
      " |-- housing: string (nullable = true)\n",
      " |-- loan: string (nullable = true)\n",
      " |-- contact: string (nullable = true)\n",
      " |-- day: integer (nullable = true)\n",
      " |-- month: string (nullable = true)\n",
      " |-- duration: integer (nullable = true)\n",
      " |-- campaign: integer (nullable = true)\n",
      " |-- pdays: integer (nullable = true)\n",
      " |-- previous: integer (nullable = true)\n",
      " |-- poutcome: string (nullable = true)\n",
      " |-- Target: string (nullable = true)\n",
      " |-- job_indexed: double (nullable = false)\n",
      " |-- marital_indexed: double (nullable = false)\n",
      " |-- education_indexed: double (nullable = false)\n",
      " |-- default_indexed: double (nullable = false)\n",
      " |-- housing_indexed: double (nullable = false)\n",
      " |-- loan_indexed: double (nullable = false)\n",
      " |-- contact_indexed: double (nullable = false)\n",
      " |-- poutcome_indexed: double (nullable = false)\n",
      " |-- job_indexed_encoded: vector (nullable = true)\n",
      " |-- marital_indexed_encoded: vector (nullable = true)\n",
      " |-- education_indexed_encoded: vector (nullable = true)\n",
      " |-- default_indexed_encoded: vector (nullable = true)\n",
      " |-- housing_indexed_encoded: vector (nullable = true)\n",
      " |-- loan_indexed_encoded: vector (nullable = true)\n",
      " |-- contact_indexed_encoded: vector (nullable = true)\n",
      " |-- poutcome_indexed_encoded: vector (nullable = true)\n",
      " |-- features: vector (nullable = true)\n",
      "\n"
     ]
    }
   ],
   "source": [
    "sdf.printSchema()"
   ]
  },
  {
   "cell_type": "markdown",
   "metadata": {},
   "source": [
    "# randomSplit"
   ]
  },
  {
   "cell_type": "code",
   "execution_count": 91,
   "metadata": {
    "application/vnd.databricks.v1+cell": {
     "inputWidgets": {},
     "nuid": "143cb417-f8ce-4787-bee7-a57dcc32c79e",
     "showTitle": true,
     "title": "Now that the data is all set, let's split it into training and test. I'll be using 70% of it."
    }
   },
   "outputs": [
    {
     "name": "stderr",
     "output_type": "stream",
     "text": [
      "                                                                                \r"
     ]
    },
    {
     "name": "stdout",
     "output_type": "stream",
     "text": [
      "-RECORD 0-------------------------------------------------------------------------------------\n",
      " age                       | 18                                                               \n",
      " job                       | student                                                          \n",
      " marital                   | single                                                           \n",
      " education                 | primary                                                          \n",
      " default                   | no                                                               \n",
      " balance                   | 608                                                              \n",
      " housing                   | no                                                               \n",
      " loan                      | no                                                               \n",
      " contact                   | cellular                                                         \n",
      " day                       | 12                                                               \n",
      " month                     | aug                                                              \n",
      " duration                  | 267                                                              \n",
      " campaign                  | 1                                                                \n",
      " pdays                     | -1                                                               \n",
      " previous                  | 0                                                                \n",
      " poutcome                  | unknown                                                          \n",
      " Target                    | yes                                                              \n",
      " job_indexed               | 10.0                                                             \n",
      " marital_indexed           | 1.0                                                              \n",
      " education_indexed         | 2.0                                                              \n",
      " default_indexed           | 0.0                                                              \n",
      " housing_indexed           | 1.0                                                              \n",
      " loan_indexed              | 0.0                                                              \n",
      " contact_indexed           | 0.0                                                              \n",
      " poutcome_indexed          | 0.0                                                              \n",
      " job_indexed_encoded       | (12,[10],[1.0])                                                  \n",
      " marital_indexed_encoded   | (3,[1],[1.0])                                                    \n",
      " education_indexed_encoded | (4,[2],[1.0])                                                    \n",
      " default_indexed_encoded   | (2,[0],[1.0])                                                    \n",
      " housing_indexed_encoded   | (2,[1],[1.0])                                                    \n",
      " loan_indexed_encoded      | (2,[0],[1.0])                                                    \n",
      " contact_indexed_encoded   | (3,[0],[1.0])                                                    \n",
      " poutcome_indexed_encoded  | (4,[0],[1.0])                                                    \n",
      " features                  | (32,[10,13,17,19,22,23,25,28],[1.0,1.0,1.0,1.0,1.0,1.0,1.0,1.0]) \n",
      "only showing top 1 row\n",
      "\n"
     ]
    },
    {
     "name": "stderr",
     "output_type": "stream",
     "text": [
      "[Stage 177:>                                                        (0 + 1) / 1]\r"
     ]
    },
    {
     "name": "stdout",
     "output_type": "stream",
     "text": [
      "-RECORD 0-------------------------------------------------------------------------------------\n",
      " age                       | 18                                                               \n",
      " job                       | student                                                          \n",
      " marital                   | single                                                           \n",
      " education                 | unknown                                                          \n",
      " default                   | no                                                               \n",
      " balance                   | 3                                                                \n",
      " housing                   | no                                                               \n",
      " loan                      | no                                                               \n",
      " contact                   | cellular                                                         \n",
      " day                       | 25                                                               \n",
      " month                     | aug                                                              \n",
      " duration                  | 130                                                              \n",
      " campaign                  | 2                                                                \n",
      " pdays                     | -1                                                               \n",
      " previous                  | 0                                                                \n",
      " poutcome                  | unknown                                                          \n",
      " Target                    | yes                                                              \n",
      " job_indexed               | 10.0                                                             \n",
      " marital_indexed           | 1.0                                                              \n",
      " education_indexed         | 3.0                                                              \n",
      " default_indexed           | 0.0                                                              \n",
      " housing_indexed           | 1.0                                                              \n",
      " loan_indexed              | 0.0                                                              \n",
      " contact_indexed           | 0.0                                                              \n",
      " poutcome_indexed          | 0.0                                                              \n",
      " job_indexed_encoded       | (12,[10],[1.0])                                                  \n",
      " marital_indexed_encoded   | (3,[1],[1.0])                                                    \n",
      " education_indexed_encoded | (4,[3],[1.0])                                                    \n",
      " default_indexed_encoded   | (2,[0],[1.0])                                                    \n",
      " housing_indexed_encoded   | (2,[1],[1.0])                                                    \n",
      " loan_indexed_encoded      | (2,[0],[1.0])                                                    \n",
      " contact_indexed_encoded   | (3,[0],[1.0])                                                    \n",
      " poutcome_indexed_encoded  | (4,[0],[1.0])                                                    \n",
      " features                  | (32,[10,13,18,19,22,23,25,28],[1.0,1.0,1.0,1.0,1.0,1.0,1.0,1.0]) \n",
      "only showing top 1 row\n",
      "\n"
     ]
    },
    {
     "name": "stderr",
     "output_type": "stream",
     "text": [
      "                                                                                \r"
     ]
    }
   ],
   "source": [
    "# sdf = spark.read.csv(portugaise_bank, header=True, inferSchema=True).cache()\n",
    "train, test = sdf.randomSplit([0.7, 0.3],seed = 11)\n",
    "train.show(n=1, truncate=False, vertical=True)\n",
    "test.show(n=1, truncate=False, vertical=True)"
   ]
  },
  {
   "cell_type": "markdown",
   "metadata": {
    "application/vnd.databricks.v1+cell": {
     "inputWidgets": {},
     "nuid": "033d08f8-dc76-4385-b18f-a4ef457c2779",
     "showTitle": true,
     "title": "Modeling"
    }
   },
   "source": [
    "# Classification Algorithms from Spark ML"
   ]
  },
  {
   "cell_type": "markdown",
   "metadata": {},
   "source": [
    "* LogisticRegression\n",
    "* DecisionTreeClassifier\n",
    "* RandomForestClassifier\n",
    "* Gradient-boosted tree classifier\n",
    "* NaiveBayes\n",
    "* Support Vector Machine"
   ]
  },
  {
   "cell_type": "code",
   "execution_count": 138,
   "metadata": {
    "application/vnd.databricks.v1+cell": {
     "inputWidgets": {},
     "nuid": "7601e4b3-04af-4e82-a69a-62e538fb9db8",
     "showTitle": true,
     "title": "LogisticRegression"
    }
   },
   "outputs": [
    {
     "name": "stdout",
     "output_type": "stream",
     "text": [
      "-RECORD 0----------------------------------------------------------------------------------------------------------------------------\n",
      " age                       | 18                                                                                                      \n",
      " job                       | student                                                                                                 \n",
      " marital                   | single                                                                                                  \n",
      " education                 | unknown                                                                                                 \n",
      " default                   | no                                                                                                      \n",
      " balance                   | 3                                                                                                       \n",
      " housing                   | no                                                                                                      \n",
      " loan                      | no                                                                                                      \n",
      " contact                   | cellular                                                                                                \n",
      " day                       | 25                                                                                                      \n",
      " month                     | aug                                                                                                     \n",
      " duration                  | 130                                                                                                     \n",
      " campaign                  | 2                                                                                                       \n",
      " pdays                     | -1                                                                                                      \n",
      " previous                  | 0                                                                                                       \n",
      " poutcome                  | unknown                                                                                                 \n",
      " Target                    | yes                                                                                                     \n",
      " job_indexed               | 10.0                                                                                                    \n",
      " marital_indexed           | 1.0                                                                                                     \n",
      " education_indexed         | 3.0                                                                                                     \n",
      " default_indexed           | 0.0                                                                                                     \n",
      " housing_indexed           | 1.0                                                                                                     \n",
      " loan_indexed              | 0.0                                                                                                     \n",
      " contact_indexed           | 0.0                                                                                                     \n",
      " poutcome_indexed          | 0.0                                                                                                     \n",
      " Target_indexed            | 1.0                                                                                                     \n",
      " job_indexed_encoded       | (12,[10],[1.0])                                                                                         \n",
      " marital_indexed_encoded   | (3,[1],[1.0])                                                                                           \n",
      " education_indexed_encoded | (4,[3],[1.0])                                                                                           \n",
      " default_indexed_encoded   | (2,[0],[1.0])                                                                                           \n",
      " housing_indexed_encoded   | (2,[1],[1.0])                                                                                           \n",
      " loan_indexed_encoded      | (2,[0],[1.0])                                                                                           \n",
      " contact_indexed_encoded   | (3,[0],[1.0])                                                                                           \n",
      " poutcome_indexed_encoded  | (4,[0],[1.0])                                                                                           \n",
      " features                  | (38,[10,13,18,19,22,23,25,28,32,33,34,35,36],[1.0,1.0,1.0,1.0,1.0,1.0,1.0,1.0,18.0,3.0,130.0,2.0,-1.0]) \n",
      " rawPrediction             | [1.5148236672450777,-1.5148236672450777]                                                                \n",
      " probability               | [0.8197749741703988,0.1802250258296012]                                                                 \n",
      " prediction                | 0.0                                                                                                     \n",
      "only showing top 1 row\n",
      "\n"
     ]
    }
   ],
   "source": [
    "# from pyspark.ml.classification import LogisticRegression\n",
    "\n",
    "# lr = LogisticRegression(labelCol='Target_indexed', featuresCol='features')\n",
    "\n",
    "# train, test = spark.read.csv(portugaise_bank, header=True, inferSchema=True) \\\n",
    "#     .cache() \\\n",
    "#     .randomSplit([0.7, 0.3], seed = 11)\n",
    "\n",
    "# train.cache(), test.cache()\n",
    "\n",
    "# model = Pipeline(stages= [indexer_feature]+[indexer_label]+[encoders]+[assembler]+[lr]).fit(train)\n",
    "# pred_lr = model.transform(test)\n",
    "# pred_lr.select('prediction', 'Target_indexed', 'features').show()\n",
    "pred_lr.show(n=1, vertical=True, truncate=False)"
   ]
  },
  {
   "cell_type": "markdown",
   "metadata": {},
   "source": [
    "# Evaluation"
   ]
  },
  {
   "cell_type": "code",
   "execution_count": 149,
   "metadata": {},
   "outputs": [
    {
     "name": "stdout",
     "output_type": "stream",
     "text": [
      "areaUnderROC lr :  0.8917591386123518\n"
     ]
    }
   ],
   "source": [
    "# evaluator = MulticlassClassificationEvaluator(labelCol='Target_indexed', predictionCol='prediction', metricName='accuracy')\n",
    "# accuracy_lr = evaluator.evaluate(pred_lr)  # 90.01 %  \n",
    "# print(\"Accuracy of LogisticRegression is = %g\"% (accuracy_lr))\n",
    "# print(\"Error of LogisticRegression = %g \" % (1.0 - accuracy_lr))\n",
    "\n",
    "# model_lr = model.stages[-1]\n",
    "# print('accuracy lr : ', model_lr.summary.accuracy) \n",
    "\n",
    "# model_lr.summary.roc.show(5)\n",
    "print('areaUnderROC lr : ', model_lr.summary.areaUnderROC)\n",
    "model_lr_roc = model_lr.summary.roc.toPandas()\n",
    "# model_lr_roc.plot.scatter(x='FPR', y='TPR')"
   ]
  },
  {
   "cell_type": "code",
   "execution_count": 150,
   "metadata": {},
   "outputs": [
    {
     "data": {
      "image/png": "[encoded data removed]",
      "text/plain": [
       "<Figure size 432x288 with 1 Axes>"
      ]
     },
     "metadata": {
      "needs_background": "light"
     },
     "output_type": "display_data"
    }
   ],
   "source": [
    "plt.figure()\n",
    "lw = 2\n",
    "plt.plot(model_lr_roc['FPR'], model_lr_roc['TPR'], color='darkorange',\n",
    "         lw=lw, label='ROC curve (area = %0.2f)' % model_lr.summary.areaUnderROC)\n",
    "plt.plot([0, 1], [0, 1], color='navy', lw=lw, linestyle='--')\n",
    "plt.xlim([0.0, 1.0])\n",
    "plt.ylim([0.0, 1.05])\n",
    "plt.xlabel('False Positive Rate')\n",
    "plt.ylabel('True Positive Rate')\n",
    "plt.title('Receiver operating characteristic example')\n",
    "plt.legend(loc=\"lower right\")\n",
    "plt.show()"
   ]
  },
  {
   "cell_type": "code",
   "execution_count": null,
   "metadata": {},
   "outputs": [],
   "source": [
    "# Evaluation avec handyspark (+ pratique)\n",
    "# pred_lr.select('probability', 'Target_indexed').collect()\n",
    "bcm = BinaryClassificationMetrics(pred_lr, scoreCol='probability', labelCol='Taget_indexed')\n",
    "\n",
    "# bcm."
   ]
  },
  {
   "cell_type": "markdown",
   "metadata": {},
   "source": [
    "# Decision Tree"
   ]
  },
  {
   "cell_type": "code",
   "execution_count": 134,
   "metadata": {
    "application/vnd.databricks.v1+cell": {
     "inputWidgets": {},
     "nuid": "348b495a-5543-4360-a777-61ca99b3815f",
     "showTitle": true,
     "title": "DecisionTreeClassifier"
    }
   },
   "outputs": [
    {
     "name": "stderr",
     "output_type": "stream",
     "text": [
      "                                                                                \r"
     ]
    },
    {
     "name": "stdout",
     "output_type": "stream",
     "text": [
      "+----------+--------------+--------------------+\n",
      "|prediction|Target_indexed|            features|\n",
      "+----------+--------------+--------------------+\n",
      "|       0.0|           1.0|(38,[10,13,18,19,...|\n",
      "|       0.0|           0.0|(38,[10,13,18,19,...|\n",
      "|       0.0|           0.0|(38,[10,13,18,19,...|\n",
      "|       0.0|           0.0|(38,[10,13,17,19,...|\n",
      "|       0.0|           0.0|(38,[10,13,17,19,...|\n",
      "|       0.0|           1.0|(38,[10,13,17,19,...|\n",
      "|       0.0|           0.0|(38,[10,13,17,19,...|\n",
      "|       0.0|           1.0|(38,[10,13,17,19,...|\n",
      "|       0.0|           0.0|(38,[10,13,15,19,...|\n",
      "|       0.0|           1.0|(38,[10,13,15,19,...|\n",
      "|       0.0|           1.0|(38,[10,13,15,19,...|\n",
      "|       0.0|           0.0|(38,[10,13,15,19,...|\n",
      "|       0.0|           0.0|(38,[10,13,15,19,...|\n",
      "|       0.0|           0.0|(38,[10,13,15,19,...|\n",
      "|       0.0|           0.0|(38,[10,13,18,19,...|\n",
      "|       0.0|           0.0|(38,[10,13,18,19,...|\n",
      "|       0.0|           0.0|(38,[3,13,15,19,2...|\n",
      "|       0.0|           0.0|(38,[0,13,15,19,2...|\n",
      "|       0.0|           0.0|(38,[4,13,15,19,2...|\n",
      "|       0.0|           0.0|(38,[10,13,17,19,...|\n",
      "+----------+--------------+--------------------+\n",
      "only showing top 20 rows\n",
      "\n",
      "Accuracy of DecisionTree is = 0.900395\n",
      "Error of DecisionTree = 0.0996045 \n"
     ]
    },
    {
     "name": "stderr",
     "output_type": "stream",
     "text": [
      "                                                                                \r"
     ]
    },
    {
     "ename": "AttributeError",
     "evalue": "'DecisionTreeClassificationModel' object has no attribute 'summary'",
     "output_type": "error",
     "traceback": [
      "\u001b[0;31m---------------------------------------------------------------------------\u001b[0m",
      "\u001b[0;31mAttributeError\u001b[0m                            Traceback (most recent call last)",
      "\u001b[1;32mc:/Users/bejao/OneDrive/IA/ML/spark_ML.ipynb Cell 49\u001b[0m in \u001b[0;36m<cell line: 13>\u001b[0;34m()\u001b[0m\n\u001b[1;32m     <a href='vscode-notebook-cell:/c%3A/Users/bejao/OneDrive/IA/ML/spark_ML.ipynb#ch0000040?line=9'>10</a>\u001b[0m \u001b[39mprint\u001b[39m(\u001b[39m\"\u001b[39m\u001b[39mError of DecisionTree = \u001b[39m\u001b[39m%g\u001b[39;00m\u001b[39m \u001b[39m\u001b[39m\"\u001b[39m \u001b[39m%\u001b[39m (\u001b[39m1.0\u001b[39m \u001b[39m-\u001b[39m accuracy_tree))\n\u001b[1;32m     <a href='vscode-notebook-cell:/c%3A/Users/bejao/OneDrive/IA/ML/spark_ML.ipynb#ch0000040?line=11'>12</a>\u001b[0m model_tree \u001b[39m=\u001b[39m model\u001b[39m.\u001b[39mstages[\u001b[39m-\u001b[39m\u001b[39m1\u001b[39m]\n\u001b[0;32m---> <a href='vscode-notebook-cell:/c%3A/Users/bejao/OneDrive/IA/ML/spark_ML.ipynb#ch0000040?line=12'>13</a>\u001b[0m \u001b[39mprint\u001b[39m(\u001b[39m'\u001b[39m\u001b[39maccuracy tree : \u001b[39m\u001b[39m'\u001b[39m, model_tree\u001b[39m.\u001b[39;49msummary\u001b[39m.\u001b[39maccuracy)\n\u001b[1;32m     <a href='vscode-notebook-cell:/c%3A/Users/bejao/OneDrive/IA/ML/spark_ML.ipynb#ch0000040?line=14'>15</a>\u001b[0m model_tree\u001b[39m.\u001b[39msummary\u001b[39m.\u001b[39mroc\u001b[39m.\u001b[39mshow(\u001b[39m5\u001b[39m)\n\u001b[1;32m     <a href='vscode-notebook-cell:/c%3A/Users/bejao/OneDrive/IA/ML/spark_ML.ipynb#ch0000040?line=15'>16</a>\u001b[0m \u001b[39mprint\u001b[39m(\u001b[39m'\u001b[39m\u001b[39mareaUnderROC tree : \u001b[39m\u001b[39m'\u001b[39m, model_tree\u001b[39m.\u001b[39msummary\u001b[39m.\u001b[39mareaUnderROC)\n",
      "\u001b[0;31mAttributeError\u001b[0m: 'DecisionTreeClassificationModel' object has no attribute 'summary'"
     ]
    }
   ],
   "source": [
    "from pyspark.ml.classification import DecisionTreeClassifier\n",
    "tree = DecisionTreeClassifier(labelCol='Target_indexed', featuresCol='features')\n",
    "\n",
    "model = Pipeline(stages= [indexer_feature]+[indexer_label]+[encoders]+[assembler]+[tree]).fit(train)\n",
    "pred_tree = model.transform(test)\n",
    "pred_tree.select('prediction', 'Target_indexed', 'features').show()\n",
    "\n",
    "accuracy_tree = evaluator.evaluate(pred_tree)  # 90.01 %  \n",
    "print(\"Accuracy of DecisionTree is = %g\"% (accuracy_tree))\n",
    "print(\"Error of DecisionTree = %g \" % (1.0 - accuracy_tree))\n",
    "\n",
    "\n",
    "# va = model.stages[-2]  # assembler \n",
    "# model_tree = model.stages[-1]\n",
    "\n",
    "# get rules ? \n",
    "tree._call_java('rootNode').toString()\n",
    "# l'arbre sous format visuel\n",
    "print(model_tree.toDebugString)\n",
    "\n",
    "# variables importances ? \n",
    "# list(zip(va.getInputCols(), model_tree.featureImportances))"
   ]
  },
  {
   "cell_type": "code",
   "execution_count": null,
   "metadata": {
    "application/vnd.databricks.v1+cell": {
     "inputWidgets": {},
     "nuid": "1f86004f-d1fd-4bca-a6bf-e1a7153fa76e",
     "showTitle": true,
     "title": "Evaluating accuracy of DecisionTreeClassifier."
    }
   },
   "outputs": [
    {
     "data": {
      "text/html": [
       "<style scoped>\n",
       "  .ansiout {\n",
       "    display: block;\n",
       "    unicode-bidi: embed;\n",
       "    white-space: pre-wrap;\n",
       "    word-wrap: break-word;\n",
       "    word-break: break-all;\n",
       "    font-family: \"Source Code Pro\", \"Menlo\", monospace;;\n",
       "    font-size: 13px;\n",
       "    color: #555;\n",
       "    margin-left: 4px;\n",
       "    line-height: 19px;\n",
       "  }\n",
       "</style>\n",
       "<div class=\"ansiout\">Accuracy of DecisionTreeClassifier is = 1\n",
       "Test Error of DecisionTreeClassifier = 0 \n",
       "</div>"
      ]
     },
     "metadata": {},
     "output_type": "display_data"
    }
   ],
   "source": [
    "dt_accuracy = evaluator.evaluate(dt_prediction)\n",
    "print(\"Accuracy of DecisionTreeClassifier is = %g\"% (dt_accuracy))\n",
    "print(\"Test Error of DecisionTreeClassifier = %g \" % (1.0 - dt_accuracy))"
   ]
  },
  {
   "cell_type": "code",
   "execution_count": null,
   "metadata": {
    "application/vnd.databricks.v1+cell": {
     "inputWidgets": {},
     "nuid": "d3539af5-5d69-4ede-96eb-12bd5b663e99",
     "showTitle": true,
     "title": "RandomForestClassifier"
    }
   },
   "outputs": [
    {
     "data": {
      "text/html": [
       "<style scoped>\n",
       "  .ansiout {\n",
       "    display: block;\n",
       "    unicode-bidi: embed;\n",
       "    white-space: pre-wrap;\n",
       "    word-wrap: break-word;\n",
       "    word-break: break-all;\n",
       "    font-family: \"Source Code Pro\", \"Menlo\", monospace;;\n",
       "    font-size: 13px;\n",
       "    color: #555;\n",
       "    margin-left: 4px;\n",
       "    line-height: 19px;\n",
       "  }\n",
       "</style>\n",
       "<div class=\"ansiout\">+----------+------------+--------------------+\n",
       "prediction|loan_indexed|         rawFeatures|\n",
       "+----------+------------+--------------------+\n",
       "       0.0|         0.0|(32,[7,13,15,19,2...|\n",
       "       0.0|         0.0|(32,[7,13,18,19,2...|\n",
       "       0.0|         0.0|(32,[7,13,17,19,2...|\n",
       "       0.0|         0.0|(32,[7,13,17,19,2...|\n",
       "       0.0|         0.0|(32,[7,13,15,19,2...|\n",
       "       0.0|         0.0|(32,[7,13,15,19,2...|\n",
       "       1.0|         1.0|(32,[3,13,15,19,2...|\n",
       "       0.0|         0.0|(32,[1,13,15,19,2...|\n",
       "       0.0|         0.0|(32,[1,13,15,19,2...|\n",
       "       0.0|         0.0|(32,[7,13,15,19,2...|\n",
       "       0.0|         0.0|(32,[7,13,18,19,2...|\n",
       "       0.0|         0.0|(32,[3,13,15,19,2...|\n",
       "       1.0|         1.0|(32,[1,12,17,19,2...|\n",
       "       1.0|         1.0|(32,[0,13,16,19,2...|\n",
       "       0.0|         0.0|(32,[7,13,17,19,2...|\n",
       "       0.0|         0.0|(32,[7,13,17,19,2...|\n",
       "       0.0|         0.0|(32,[7,13,15,19,2...|\n",
       "       0.0|         0.0|(32,[7,13,15,19,2...|\n",
       "       0.0|         0.0|(32,[7,13,18,19,2...|\n",
       "       0.0|         0.0|(32,[7,13,18,19,2...|\n",
       "+----------+------------+--------------------+\n",
       "only showing top 20 rows\n",
       "\n",
       "</div>"
      ]
     },
     "metadata": {},
     "output_type": "display_data"
    }
   ],
   "source": [
    "from pyspark.ml.classification import RandomForestClassifier\n",
    "rf = DecisionTreeClassifier(labelCol=\"loan_indexed\", featuresCol=\"rawFeatures\")\n",
    "rf_model = rf.fit(trainingData)\n",
    "rf_prediction = rf_model.transform(testData)\n",
    "rf_prediction.select(\"prediction\", \"loan_indexed\", \"rawFeatures\").show()"
   ]
  },
  {
   "cell_type": "code",
   "execution_count": null,
   "metadata": {
    "application/vnd.databricks.v1+cell": {
     "inputWidgets": {},
     "nuid": "c1d03788-5b58-45e3-bf29-1698138feeed",
     "showTitle": true,
     "title": "Evaluating accuracy of RandomForestClassifier."
    }
   },
   "outputs": [
    {
     "data": {
      "text/html": [
       "<style scoped>\n",
       "  .ansiout {\n",
       "    display: block;\n",
       "    unicode-bidi: embed;\n",
       "    white-space: pre-wrap;\n",
       "    word-wrap: break-word;\n",
       "    word-break: break-all;\n",
       "    font-family: \"Source Code Pro\", \"Menlo\", monospace;;\n",
       "    font-size: 13px;\n",
       "    color: #555;\n",
       "    margin-left: 4px;\n",
       "    line-height: 19px;\n",
       "  }\n",
       "</style>\n",
       "<div class=\"ansiout\">Accuracy of RandomForestClassifier is = 1\n",
       "Test Error of RandomForestClassifier  = 0 \n",
       "</div>"
      ]
     },
     "metadata": {},
     "output_type": "display_data"
    }
   ],
   "source": [
    "rf_accuracy = evaluator.evaluate(rf_prediction)\n",
    "print(\"Accuracy of RandomForestClassifier is = %g\"% (rf_accuracy))\n",
    "print(\"Test Error of RandomForestClassifier  = %g \" % (1.0 - rf_accuracy))"
   ]
  },
  {
   "cell_type": "code",
   "execution_count": null,
   "metadata": {
    "application/vnd.databricks.v1+cell": {
     "inputWidgets": {},
     "nuid": "128e7e53-d5fa-475a-b60c-61a61687c96b",
     "showTitle": true,
     "title": "Gradient-boosted tree classifier"
    }
   },
   "outputs": [
    {
     "data": {
      "text/html": [
       "<style scoped>\n",
       "  .ansiout {\n",
       "    display: block;\n",
       "    unicode-bidi: embed;\n",
       "    white-space: pre-wrap;\n",
       "    word-wrap: break-word;\n",
       "    word-break: break-all;\n",
       "    font-family: \"Source Code Pro\", \"Menlo\", monospace;;\n",
       "    font-size: 13px;\n",
       "    color: #555;\n",
       "    margin-left: 4px;\n",
       "    line-height: 19px;\n",
       "  }\n",
       "</style>\n",
       "<div class=\"ansiout\">+----------+------------+--------------------+\n",
       "prediction|loan_indexed|         rawFeatures|\n",
       "+----------+------------+--------------------+\n",
       "       0.0|         0.0|(32,[7,13,15,19,2...|\n",
       "       0.0|         0.0|(32,[7,13,18,19,2...|\n",
       "       0.0|         0.0|(32,[7,13,17,19,2...|\n",
       "       0.0|         0.0|(32,[7,13,17,19,2...|\n",
       "       0.0|         0.0|(32,[7,13,15,19,2...|\n",
       "       0.0|         0.0|(32,[7,13,15,19,2...|\n",
       "       1.0|         1.0|(32,[3,13,15,19,2...|\n",
       "       0.0|         0.0|(32,[1,13,15,19,2...|\n",
       "       0.0|         0.0|(32,[1,13,15,19,2...|\n",
       "       0.0|         0.0|(32,[7,13,15,19,2...|\n",
       "       0.0|         0.0|(32,[7,13,18,19,2...|\n",
       "       0.0|         0.0|(32,[3,13,15,19,2...|\n",
       "       1.0|         1.0|(32,[1,12,17,19,2...|\n",
       "       1.0|         1.0|(32,[0,13,16,19,2...|\n",
       "       0.0|         0.0|(32,[7,13,17,19,2...|\n",
       "       0.0|         0.0|(32,[7,13,17,19,2...|\n",
       "       0.0|         0.0|(32,[7,13,15,19,2...|\n",
       "       0.0|         0.0|(32,[7,13,15,19,2...|\n",
       "       0.0|         0.0|(32,[7,13,18,19,2...|\n",
       "       0.0|         0.0|(32,[7,13,18,19,2...|\n",
       "+----------+------------+--------------------+\n",
       "only showing top 20 rows\n",
       "\n",
       "</div>"
      ]
     },
     "metadata": {},
     "output_type": "display_data"
    }
   ],
   "source": [
    "from pyspark.ml.classification import GBTClassifier\n",
    "gbt = GBTClassifier(labelCol=\"loan_indexed\", featuresCol=\"rawFeatures\",maxIter=10)\n",
    "gbt_model = gbt.fit(trainingData)\n",
    "gbt_prediction = gbt_model.transform(testData)\n",
    "gbt_prediction.select(\"prediction\", \"loan_indexed\", \"rawFeatures\").show()"
   ]
  },
  {
   "cell_type": "code",
   "execution_count": null,
   "metadata": {
    "application/vnd.databricks.v1+cell": {
     "inputWidgets": {},
     "nuid": "725b7b85-d95b-4aeb-a6c5-db3bdb56469c",
     "showTitle": true,
     "title": "Evaluate accuracy of Gradient-boosted."
    }
   },
   "outputs": [
    {
     "data": {
      "text/html": [
       "<style scoped>\n",
       "  .ansiout {\n",
       "    display: block;\n",
       "    unicode-bidi: embed;\n",
       "    white-space: pre-wrap;\n",
       "    word-wrap: break-word;\n",
       "    word-break: break-all;\n",
       "    font-family: \"Source Code Pro\", \"Menlo\", monospace;;\n",
       "    font-size: 13px;\n",
       "    color: #555;\n",
       "    margin-left: 4px;\n",
       "    line-height: 19px;\n",
       "  }\n",
       "</style>\n",
       "<div class=\"ansiout\">Accuracy of Gradient-boosted tree classifie is = 1\n",
       "Test Error of Gradient-boosted tree classifie 0\n",
       "</div>"
      ]
     },
     "metadata": {},
     "output_type": "display_data"
    }
   ],
   "source": [
    "gbt_accuracy = evaluator.evaluate(gbt_prediction)\n",
    "print(\"Accuracy of Gradient-boosted tree classifie is = %g\"% (gbt_accuracy))\n",
    "print(\"Test Error of Gradient-boosted tree classifie %g\"% (1.0 - gbt_accuracy))"
   ]
  },
  {
   "cell_type": "code",
   "execution_count": null,
   "metadata": {
    "application/vnd.databricks.v1+cell": {
     "inputWidgets": {},
     "nuid": "10535408-db80-4af0-ae3c-9500c866954b",
     "showTitle": true,
     "title": "NaiveBayes"
    }
   },
   "outputs": [
    {
     "data": {
      "text/html": [
       "<style scoped>\n",
       "  .ansiout {\n",
       "    display: block;\n",
       "    unicode-bidi: embed;\n",
       "    white-space: pre-wrap;\n",
       "    word-wrap: break-word;\n",
       "    word-break: break-all;\n",
       "    font-family: \"Source Code Pro\", \"Menlo\", monospace;;\n",
       "    font-size: 13px;\n",
       "    color: #555;\n",
       "    margin-left: 4px;\n",
       "    line-height: 19px;\n",
       "  }\n",
       "</style>\n",
       "<div class=\"ansiout\">+----------+------------+--------------------+\n",
       "prediction|loan_indexed|         rawFeatures|\n",
       "+----------+------------+--------------------+\n",
       "       0.0|         0.0|(32,[7,13,15,19,2...|\n",
       "       0.0|         0.0|(32,[7,13,18,19,2...|\n",
       "       0.0|         0.0|(32,[7,13,17,19,2...|\n",
       "       0.0|         0.0|(32,[7,13,17,19,2...|\n",
       "       0.0|         0.0|(32,[7,13,15,19,2...|\n",
       "       0.0|         0.0|(32,[7,13,15,19,2...|\n",
       "       1.0|         1.0|(32,[3,13,15,19,2...|\n",
       "       0.0|         0.0|(32,[1,13,15,19,2...|\n",
       "       0.0|         0.0|(32,[1,13,15,19,2...|\n",
       "       0.0|         0.0|(32,[7,13,15,19,2...|\n",
       "       0.0|         0.0|(32,[7,13,18,19,2...|\n",
       "       0.0|         0.0|(32,[3,13,15,19,2...|\n",
       "       1.0|         1.0|(32,[1,12,17,19,2...|\n",
       "       1.0|         1.0|(32,[0,13,16,19,2...|\n",
       "       0.0|         0.0|(32,[7,13,17,19,2...|\n",
       "       0.0|         0.0|(32,[7,13,17,19,2...|\n",
       "       0.0|         0.0|(32,[7,13,15,19,2...|\n",
       "       0.0|         0.0|(32,[7,13,15,19,2...|\n",
       "       0.0|         0.0|(32,[7,13,18,19,2...|\n",
       "       0.0|         0.0|(32,[7,13,18,19,2...|\n",
       "+----------+------------+--------------------+\n",
       "only showing top 20 rows\n",
       "\n",
       "</div>"
      ]
     },
     "metadata": {},
     "output_type": "display_data"
    }
   ],
   "source": [
    "from pyspark.ml.classification import NaiveBayes\n",
    "nb = NaiveBayes(labelCol=\"loan_indexed\", featuresCol=\"rawFeatures\")\n",
    "nb_model = nb.fit(trainingData)\n",
    "nb_prediction = nb_model.transform(testData)\n",
    "nb_prediction.select(\"prediction\", \"loan_indexed\", \"rawFeatures\").show()"
   ]
  },
  {
   "cell_type": "code",
   "execution_count": null,
   "metadata": {
    "application/vnd.databricks.v1+cell": {
     "inputWidgets": {},
     "nuid": "fc306b97-de79-4079-9777-5445e03fefb7",
     "showTitle": true,
     "title": "Evaluating accuracy of NaiveBayes."
    }
   },
   "outputs": [
    {
     "data": {
      "text/html": [
       "<style scoped>\n",
       "  .ansiout {\n",
       "    display: block;\n",
       "    unicode-bidi: embed;\n",
       "    white-space: pre-wrap;\n",
       "    word-wrap: break-word;\n",
       "    word-break: break-all;\n",
       "    font-family: \"Source Code Pro\", \"Menlo\", monospace;;\n",
       "    font-size: 13px;\n",
       "    color: #555;\n",
       "    margin-left: 4px;\n",
       "    line-height: 19px;\n",
       "  }\n",
       "</style>\n",
       "<div class=\"ansiout\">Accuracy of NaiveBayes is  = 1\n",
       "Test Error of NaiveBayes  = 0 \n",
       "</div>"
      ]
     },
     "metadata": {},
     "output_type": "display_data"
    }
   ],
   "source": [
    "nb_accuracy = evaluator.evaluate(nb_prediction)\n",
    "print(\"Accuracy of NaiveBayes is  = %g\"% (nb_accuracy))\n",
    "print(\"Test Error of NaiveBayes  = %g \" % (1.0 - nb_accuracy))"
   ]
  },
  {
   "cell_type": "code",
   "execution_count": null,
   "metadata": {
    "application/vnd.databricks.v1+cell": {
     "inputWidgets": {},
     "nuid": "85637fd4-7b36-469f-9b49-5aaf8739d8cc",
     "showTitle": true,
     "title": "Support Vector Machine"
    }
   },
   "outputs": [
    {
     "data": {
      "text/html": [
       "<style scoped>\n",
       "  .ansiout {\n",
       "    display: block;\n",
       "    unicode-bidi: embed;\n",
       "    white-space: pre-wrap;\n",
       "    word-wrap: break-word;\n",
       "    word-break: break-all;\n",
       "    font-family: \"Source Code Pro\", \"Menlo\", monospace;;\n",
       "    font-size: 13px;\n",
       "    color: #555;\n",
       "    margin-left: 4px;\n",
       "    line-height: 19px;\n",
       "  }\n",
       "</style>\n",
       "<div class=\"ansiout\">+----------+------------+--------------------+\n",
       "prediction|loan_indexed|         rawFeatures|\n",
       "+----------+------------+--------------------+\n",
       "       0.0|         0.0|(32,[7,13,15,19,2...|\n",
       "       0.0|         0.0|(32,[7,13,18,19,2...|\n",
       "       0.0|         0.0|(32,[7,13,17,19,2...|\n",
       "       0.0|         0.0|(32,[7,13,17,19,2...|\n",
       "       0.0|         0.0|(32,[7,13,15,19,2...|\n",
       "       0.0|         0.0|(32,[7,13,15,19,2...|\n",
       "       1.0|         1.0|(32,[3,13,15,19,2...|\n",
       "       0.0|         0.0|(32,[1,13,15,19,2...|\n",
       "       0.0|         0.0|(32,[1,13,15,19,2...|\n",
       "       0.0|         0.0|(32,[7,13,15,19,2...|\n",
       "       0.0|         0.0|(32,[7,13,18,19,2...|\n",
       "       0.0|         0.0|(32,[3,13,15,19,2...|\n",
       "       1.0|         1.0|(32,[1,12,17,19,2...|\n",
       "       1.0|         1.0|(32,[0,13,16,19,2...|\n",
       "       0.0|         0.0|(32,[7,13,17,19,2...|\n",
       "       0.0|         0.0|(32,[7,13,17,19,2...|\n",
       "       0.0|         0.0|(32,[7,13,15,19,2...|\n",
       "       0.0|         0.0|(32,[7,13,15,19,2...|\n",
       "       0.0|         0.0|(32,[7,13,18,19,2...|\n",
       "       0.0|         0.0|(32,[7,13,18,19,2...|\n",
       "+----------+------------+--------------------+\n",
       "only showing top 20 rows\n",
       "\n",
       "</div>"
      ]
     },
     "metadata": {},
     "output_type": "display_data"
    }
   ],
   "source": [
    "from pyspark.ml.classification import LinearSVC\n",
    "svm = LinearSVC(labelCol=\"loan_indexed\", featuresCol=\"rawFeatures\")\n",
    "svm_model = svm.fit(trainingData)\n",
    "svm_prediction = svm_model.transform(testData)\n",
    "svm_prediction.select(\"prediction\", \"loan_indexed\", \"rawFeatures\").show()"
   ]
  },
  {
   "cell_type": "code",
   "execution_count": null,
   "metadata": {
    "application/vnd.databricks.v1+cell": {
     "inputWidgets": {},
     "nuid": "940d701a-ab84-42de-8f16-b46e97eef393",
     "showTitle": true,
     "title": "Evaluating the accuracy of Support Vector Machine."
    }
   },
   "outputs": [
    {
     "data": {
      "text/html": [
       "<style scoped>\n",
       "  .ansiout {\n",
       "    display: block;\n",
       "    unicode-bidi: embed;\n",
       "    white-space: pre-wrap;\n",
       "    word-wrap: break-word;\n",
       "    word-break: break-all;\n",
       "    font-family: \"Source Code Pro\", \"Menlo\", monospace;;\n",
       "    font-size: 13px;\n",
       "    color: #555;\n",
       "    margin-left: 4px;\n",
       "    line-height: 19px;\n",
       "  }\n",
       "</style>\n",
       "<div class=\"ansiout\">Accuracy of Support Vector Machine is = 1\n",
       "Test Error of Support Vector Machine = 0 \n",
       "</div>"
      ]
     },
     "metadata": {},
     "output_type": "display_data"
    }
   ],
   "source": [
    "svm_accuracy = evaluator.evaluate(svm_prediction)\n",
    "print(\"Accuracy of Support Vector Machine is = %g\"% (svm_accuracy))\n",
    "print(\"Test Error of Support Vector Machine = %g \" % (1.0 - svm_accuracy))"
   ]
  }
 ],
 "metadata": {
  "kernelspec": {
   "display_name": "Python 3 (ipykernel)",
   "language": "python",
   "name": "python3"
  },
  "language_info": {
   "codemirror_mode": {
    "name": "ipython",
    "version": 3
   },
   "file_extension": ".py",
   "mimetype": "text/x-python",
   "name": "python",
   "nbconvert_exporter": "python",
   "pygments_lexer": "ipython3",
   "version": "3.10.6"
  },
  "vscode": {
   "interpreter": {
    "hash": "372373746f32b63eeb334467d24f32b3d24451f66ed2c2de20060369be65d64c"
   }
  }
 },
 "nbformat": 4,
 "nbformat_minor": 4
}
